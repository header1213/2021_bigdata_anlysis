{
 "cells": [
  {
   "cell_type": "markdown",
   "metadata": {},
   "source": [
    "# 5. Selenium 사용하기\n",
    "* 웹페이지 테스트 자동화 도구\n",
    "* https://selenium-python.readthedocs.io/index.html"
   ]
  },
  {
   "cell_type": "markdown",
   "metadata": {},
   "source": [
    "### Selenium 설치\n",
    "* conda install -c conda-forge selenium\n",
    "\n",
    "### 크롬 드라이버 다운로드\n",
    "* 브라우저 버전에 맞게 받기\n",
    "* C:\\JupyterLab\\chromedriver.exe"
   ]
  },
  {
   "cell_type": "code",
   "execution_count": 2,
   "metadata": {},
   "outputs": [
    {
     "name": "stdout",
     "output_type": "stream",
     "text": [
      "Welcome to Python.org\n",
      "<html class=\"js no-touch geolocation fontface generatedcontent svg formvalidation placeholder boxsizing no-retina\" lang=\"en\" dir=\"ltr\" style=\"\"><!--<![endif]--><head>\n",
      "    <meta charset=\"utf-8\">\n",
      "    <meta http-equiv=\"X-UA-Compatible\" content=\"IE=edge\">\n",
      "\n",
      "    <link rel=\"prefetch\" href=\"//ajax.googleapis.com/ajax/libs/jquery/1.8.2/jquery.min.js\">\n",
      "    <link rel=\"prefetch\" href=\"//ajax.googleapis.com/ajax/libs/jqueryui/1.12.1/jquery-ui.min.js\">\n",
      "\n",
      "    <meta name=\"application-name\" content=\"Python.org\">\n",
      "\n"
     ]
    }
   ],
   "source": [
    "from selenium import webdriver\n",
    "from selenium.webdriver.common.keys import Keys\n",
    "import time\n",
    "\n",
    "driver_path = 'C:\\\\Users\\\\twori\\\\Desktop\\\\development\\\\JupyterLab\\\\chromedriver.exe'\n",
    "driver = webdriver.Chrome(driver_path)\n",
    "\n",
    "driver.get(\"http://www.python.org\")\n",
    "print(driver.title)\n",
    "\n",
    "elem = driver.find_element_by_name(\"q\")\n",
    "elem.clear()\n",
    "elem.send_keys(\"pycon\")\n",
    "\n",
    "time.sleep(3)\n",
    "elem.send_keys(Keys.RETURN)\n",
    "time.sleep(3)\n",
    "\n",
    "print(driver.page_source[:500])\n",
    "driver.close()"
   ]
  },
  {
   "cell_type": "markdown",
   "metadata": {},
   "source": [
    "### 네이버 자동 검색하기"
   ]
  },
  {
   "cell_type": "code",
   "execution_count": null,
   "metadata": {},
   "outputs": [],
   "source": [
    "driver = webdriver.Chrome(driver_path)\n",
    "\n",
    "driver.get(\"http://naver.com\")\n",
    "print(driver.title)\n",
    "\n",
    "elem = driver.find_element_by_id(\"query\")\n",
    "elem.clear()\n",
    "elem.send_keys(\"디미고\")\n",
    "\n",
    "time.sleep(3)\n",
    "elem.send_keys(Keys.RETURN)\n",
    "time.sleep(3)\n",
    "\n",
    "print(driver.page_source[:500])\n",
    "driver.close()"
   ]
  },
  {
   "cell_type": "markdown",
   "metadata": {},
   "source": [
    "### 스타벅스 매장 찾기\n",
    "* https://www.starbucks.co.kr/store/store_map.do?disp=locale"
   ]
  },
  {
   "cell_type": "code",
   "execution_count": null,
   "metadata": {},
   "outputs": [],
   "source": [
    "url = 'https://www.starbucks.co.kr/store/store_map.do?disp=locale'\n",
    "\n",
    "driver = webdriver.Chrome(driver_path)\n",
    "\n",
    "driver.get(url)\n",
    "print(driver.title)\n",
    "\n",
    "from selenium.webdriver.common.by import By\n",
    "from selenium.webdriver.support.ui import WebDriverWait\n",
    "from selenium.webdriver.support import expected_conditions as EC\n",
    "\n",
    "\n",
    "seoul = '#container > div > form > fieldset > div > section > article.find_store_cont > article > article:nth-child(4) > div.loca_step1 > div.loca_step1_cont > ul > li:nth-child(1) > a'\n",
    "WebDriverWait(driver, 3).until(EC.presence_of_element_located((By.CSS_SELECTOR, seoul))).click()\n",
    "\n",
    "# WebDriverWait(driver, 3).until(EC.presence_of_element_located((By.CSS_SELECTOR, '.set_sido_cd_btn')))\n",
    "# driver.find_element_by_css_selector(seoul).click()\n",
    "\n",
    "\n",
    "all_css = '#mCSB_2_container > ul > li:nth-child(1) > a'\n",
    "a = WebDriverWait(driver, 3).until(EC.presence_of_element_located((By.CSS_SELECTOR, all_css))).click()\n",
    "\n",
    "# WebDriverWait(driver, 3).until(EC.presence_of_element_located((By.CSS_SELECTOR, '.set_gugun_cd_btn')))\n",
    "# driver.find_element_by_css_selector(all_css).click()\n",
    "\n",
    "time.sleep(3)\n",
    "html = driver.page_source\n",
    "# print(html[:500])\n",
    "print(a)\n",
    "driver.close()"
   ]
  },
  {
   "cell_type": "code",
   "execution_count": null,
   "metadata": {},
   "outputs": [],
   "source": [
    "from bs4 import BeautifulSoup\n",
    "\n",
    "soup = BeautifulSoup(html)\n",
    "stores = soup.select('.quickResultLstCon')\n",
    "stores[:10]"
   ]
  },
  {
   "cell_type": "code",
   "execution_count": null,
   "metadata": {},
   "outputs": [],
   "source": [
    "store_list = []\n",
    "\n",
    "for store in stores:\n",
    "    name = store['data-name'].strip()\n",
    "    lat = store['data-lat']\n",
    "    long = store['data-long']\n",
    "    address = store.find('p').get_text().split('1522')[0]\n",
    "    store_list.append([name, lat, long, address])\n",
    "\n",
    "store_list[:10]"
   ]
  },
  {
   "cell_type": "code",
   "execution_count": null,
   "metadata": {},
   "outputs": [],
   "source": [
    "import pandas as pd\n",
    "columns = ['매장명', '위도', '경도',  '주소']\n",
    "df = pd.DataFrame(store_list, columns=columns)\n",
    "df"
   ]
  }
 ],
 "metadata": {
  "kernelspec": {
   "display_name": "Python 3",
   "language": "python",
   "name": "python3"
  },
  "language_info": {
   "codemirror_mode": {
    "name": "ipython",
    "version": 3
   },
   "file_extension": ".py",
   "mimetype": "text/x-python",
   "name": "python",
   "nbconvert_exporter": "python",
   "pygments_lexer": "ipython3",
   "version": "3.9.5"
  }
 },
 "nbformat": 4,
 "nbformat_minor": 4
}

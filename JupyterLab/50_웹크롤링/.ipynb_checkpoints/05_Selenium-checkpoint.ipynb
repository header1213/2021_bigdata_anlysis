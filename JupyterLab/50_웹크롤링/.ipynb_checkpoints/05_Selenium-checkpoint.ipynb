{
 "cells": [
  {
   "cell_type": "markdown",
   "metadata": {},
   "source": [
    "# 5. Selenium 사용하기\n",
    "* 웹페이지 테스트 자동화 도구\n",
    "* https://selenium-python.readthedocs.io/index.html"
   ]
  },
  {
   "cell_type": "markdown",
   "metadata": {},
   "source": [
    "### Selenium 설치\n",
    "* conda install -c conda-forge selenium\n",
    "\n",
    "### 크롬 드라이버 다운로드\n",
    "* 브라우저 버전에 맞게 받기\n",
    "* C:\\JupyterLab\\chromedriver.exe"
   ]
  },
  {
   "cell_type": "code",
   "execution_count": 1,
   "metadata": {},
   "outputs": [
    {
     "name": "stdout",
     "output_type": "stream",
     "text": [
      "Welcome to Python.org\n",
      "<html class=\"js no-touch geolocation fontface generatedcontent svg formvalidation placeholder boxsizing no-retina\" lang=\"en\" dir=\"ltr\" style=\"\"><!--<![endif]--><head>\n",
      "    <meta charset=\"utf-8\">\n",
      "    <meta http-equiv=\"X-UA-Compatible\" content=\"IE=edge\">\n",
      "\n",
      "    <link rel=\"prefetch\" href=\"//ajax.googleapis.com/ajax/libs/jquery/1.8.2/jquery.min.js\">\n",
      "    <link rel=\"prefetch\" href=\"//ajax.googleapis.com/ajax/libs/jqueryui/1.12.1/jquery-ui.min.js\">\n",
      "\n",
      "    <meta name=\"application-name\" content=\"Python.org\">\n",
      "\n"
     ]
    }
   ],
   "source": [
    "from selenium import webdriver\n",
    "from selenium.webdriver.common.keys import Keys\n",
    "import time\n",
    "\n",
    "driver_path = 'C:\\\\JupyterLab\\\\chromedriver.exe'\n",
    "driver = webdriver.Chrome(driver_path)\n",
    "\n",
    "driver.get(\"http://www.python.org\")\n",
    "print(driver.title)\n",
    "\n",
    "elem = driver.find_element_by_name(\"q\")\n",
    "elem.clear()\n",
    "elem.send_keys(\"pycon\")\n",
    "\n",
    "time.sleep(3)\n",
    "elem.send_keys(Keys.RETURN)\n",
    "time.sleep(3)\n",
    "\n",
    "print(driver.page_source[:500])\n",
    "driver.close()"
   ]
  },
  {
   "cell_type": "markdown",
   "metadata": {},
   "source": [
    "### 네이버 자동 검색하기"
   ]
  },
  {
   "cell_type": "code",
   "execution_count": 2,
   "metadata": {},
   "outputs": [
    {
     "name": "stdout",
     "output_type": "stream",
     "text": [
      "NAVER\n",
      "<html lang=\"ko\" data-useragent=\"mozilla/5.0 (windows nt 10.0; win64; x64) applewebkit/537.36 (khtml, like gecko) chrome/92.0.4515.159 safari/537.36\" data-platform=\"win32\"><head> <meta charset=\"utf-8\"> <meta name=\"referrer\" content=\"always\">  <meta name=\"format-detection\" content=\"telephone=no,address=no,email=no\"> <meta name=\"viewport\" content=\"width=device-width,initial-scale=1.0,maximum-scale=2.0\"> <meta property=\"og:title\" content=\"디미고 : 네이버 통합검색\"> <meta property=\"og:image\" content=\"https://s\n"
     ]
    }
   ],
   "source": [
    "driver = webdriver.Chrome(driver_path)\n",
    "\n",
    "driver.get(\"http://naver.com\")\n",
    "print(driver.title)\n",
    "\n",
    "elem = driver.find_element_by_id(\"query\")\n",
    "elem.clear()\n",
    "elem.send_keys(\"디미고\")\n",
    "\n",
    "time.sleep(3)\n",
    "elem.send_keys(Keys.RETURN)\n",
    "time.sleep(3)\n",
    "\n",
    "print(driver.page_source[:500])\n",
    "driver.close()"
   ]
  },
  {
   "cell_type": "markdown",
   "metadata": {},
   "source": [
    "### 스타벅스 매장 찾기\n",
    "* https://www.starbucks.co.kr/store/store_map.do?disp=locale"
   ]
  },
  {
   "cell_type": "code",
   "execution_count": 3,
   "metadata": {},
   "outputs": [
    {
     "name": "stdout",
     "output_type": "stream",
     "text": [
      "Starbucks Coffee Korea\n",
      "<html lang=\"ko\"><head>\n",
      "\t\t\n",
      "\n",
      "\n",
      "\n",
      "\n",
      "\n",
      "\n",
      "\n",
      "\n",
      "<meta http-equiv=\"X-UA-Compatible\" content=\"IE=edge\">\n",
      "<meta charset=\"utf-8\">\n",
      "<meta name=\"viewport\" content=\"width=device-width, initial-scale=1.0, maximum-scale=1.0, minimum-scale=1.0, user-scalable=no\">\n",
      "<meta property=\"og:type\" content=\"website\">\n",
      "<meta property=\"og:title\" content=\"Starbucks\">\n",
      "<meta property=\"og:url\" content=\"https://www.starbucks.co.kr/\">\n",
      "<meta property=\"og:image\" content=\"https://image.istarbucks.co.kr/common/img/kakaotalk.png\">\n",
      "<meta property\n"
     ]
    }
   ],
   "source": [
    "url = 'https://www.starbucks.co.kr/store/store_map.do?disp=locale'\n",
    "\n",
    "driver = webdriver.Chrome(driver_path)\n",
    "\n",
    "driver.get(url)\n",
    "print(driver.title)\n",
    "\n",
    "from selenium.webdriver.common.by import By\n",
    "from selenium.webdriver.support.ui import WebDriverWait\n",
    "from selenium.webdriver.support import expected_conditions as EC\n",
    "\n",
    "\n",
    "seoul = '#container > div > form > fieldset > div > section > article.find_store_cont > article > article:nth-child(4) > div.loca_step1 > div.loca_step1_cont > ul > li:nth-child(1) > a'\n",
    "WebDriverWait(driver, 3).until(EC.presence_of_element_located((By.CSS_SELECTOR, seoul))).click()\n",
    "\n",
    "# WebDriverWait(driver, 3).until(EC.presence_of_element_located((By.CSS_SELECTOR, '.set_sido_cd_btn')))\n",
    "# driver.find_element_by_css_selector(seoul).click()\n",
    "\n",
    "\n",
    "all_css = '#mCSB_2_container > ul > li:nth-child(1) > a'\n",
    "WebDriverWait(driver, 3).until(EC.presence_of_element_located((By.CSS_SELECTOR, all_css))).click()\n",
    "\n",
    "# WebDriverWait(driver, 3).until(EC.presence_of_element_located((By.CSS_SELECTOR, '.set_gugun_cd_btn')))\n",
    "# driver.find_element_by_css_selector(all_css).click()\n",
    "\n",
    "time.sleep(3)\n",
    "html = driver.page_source\n",
    "print(html[:500])\n",
    "driver.close()"
   ]
  },
  {
   "cell_type": "code",
   "execution_count": 4,
   "metadata": {},
   "outputs": [
    {
     "data": {
      "text/plain": [
       "[<li class=\"quickResultLstCon\" data-code=\"3762\" data-hlytag=\"null\" data-index=\"0\" data-lat=\"37.501087\" data-long=\"127.043069\" data-name=\"역삼아레나빌딩\" data-storecd=\"1509\" style=\"background:#fff\"> <strong data-my_siren_order_store_yn=\"N\" data-name=\"역삼아레나빌딩\" data-store=\"1509\" data-yn=\"N\">역삼아레나빌딩  </strong> <p class=\"result_details\">서울특별시 강남구 언주로 425 (역삼동)<br/>1522-3232</p> <i class=\"pin_general\">리저브 매장 2번</i></li>,\n",
       " <li class=\"quickResultLstCon\" data-code=\"3672\" data-hlytag=\"null\" data-index=\"1\" data-lat=\"37.510178\" data-long=\"127.022223\" data-name=\"논현역사거리\" data-storecd=\"1434\" style=\"background:#fff\"> <strong data-my_siren_order_store_yn=\"N\" data-name=\"논현역사거리\" data-store=\"1434\" data-yn=\"N\">논현역사거리  </strong> <p class=\"result_details\">서울특별시 강남구 강남대로 538 (논현동)<br/>1522-3232</p> <i class=\"pin_general\">리저브 매장 2번</i></li>,\n",
       " <li class=\"quickResultLstCon\" data-code=\"3858\" data-hlytag=\"null\" data-index=\"2\" data-lat=\"37.514132\" data-long=\"127.020563\" data-name=\"신사역성일빌딩\" data-storecd=\"1595\" style=\"background:#fff\"> <strong data-my_siren_order_store_yn=\"N\" data-name=\"신사역성일빌딩\" data-store=\"1595\" data-yn=\"N\">신사역성일빌딩  </strong> <p class=\"result_details\">서울특별시 강남구 강남대로 584 (논현동)<br/>1522-3232</p> <i class=\"pin_general\">리저브 매장 2번</i></li>,\n",
       " <li class=\"quickResultLstCon\" data-code=\"3669\" data-hlytag=\"null\" data-index=\"3\" data-lat=\"37.499517\" data-long=\"127.031495\" data-name=\"국기원사거리\" data-storecd=\"1527\" style=\"background:#fff\"> <strong data-my_siren_order_store_yn=\"N\" data-name=\"국기원사거리\" data-store=\"1527\" data-yn=\"N\">국기원사거리  </strong> <p class=\"result_details\">서울특별시 강남구 테헤란로 125 (역삼동)<br/>1522-3232</p> <i class=\"pin_general\">리저브 매장 2번</i></li>,\n",
       " <li class=\"quickResultLstCon\" data-code=\"3703\" data-hlytag=\"null\" data-index=\"4\" data-lat=\"37.494668\" data-long=\"127.062583\" data-name=\"스탈릿대치R\" data-storecd=\"1468\" style=\"background:#fff\"> <strong data-my_siren_order_store_yn=\"N\" data-name=\"스탈릿대치R\" data-store=\"1468\" data-yn=\"N\">스탈릿대치R  </strong> <p class=\"result_details\">서울특별시 강남구 남부순환로 2947 (대치동)<br/>1522-3232</p> <i class=\"pin_reserve\">리저브 매장 2번</i></li>,\n",
       " <li class=\"quickResultLstCon\" data-code=\"3912\" data-hlytag=\"null\" data-index=\"5\" data-lat=\"37.515000\" data-long=\"127.063196\" data-name=\"봉은사역\" data-storecd=\"1640\" style=\"background:#fff\"> <strong data-my_siren_order_store_yn=\"N\" data-name=\"봉은사역\" data-store=\"1640\" data-yn=\"N\">봉은사역  </strong> <p class=\"result_details\">서울특별시 강남구 봉은사로 619 (삼성동)<br/>1522-3232</p> <i class=\"pin_general\">리저브 매장 2번</i></li>,\n",
       " <li class=\"quickResultLstCon\" data-code=\"3893\" data-hlytag=\"null\" data-index=\"6\" data-lat=\"37.5227934\" data-long=\"127.0286009\" data-name=\"압구정윤성빌딩\" data-storecd=\"1650\" style=\"background:#fff\"> <strong data-my_siren_order_store_yn=\"N\" data-name=\"압구정윤성빌딩\" data-store=\"1650\" data-yn=\"N\">압구정윤성빌딩  </strong> <p class=\"result_details\">서울특별시 강남구 논현로 834 (신사동)<br/>1522-3232</p> <i class=\"pin_general\">리저브 매장 2번</i></li>,\n",
       " <li class=\"quickResultLstCon\" data-code=\"3897\" data-hlytag=\"null\" data-index=\"7\" data-lat=\"37.510150\" data-long=\"127.060275\" data-name=\"코엑스별마당\" data-storecd=\"1626\" style=\"background:#fff\"> <strong data-my_siren_order_store_yn=\"N\" data-name=\"코엑스별마당\" data-store=\"1626\" data-yn=\"N\">코엑스별마당  </strong> <p class=\"result_details\">서울특별시 강남구 영동대로 513 (삼성동)<br/>1522-3232</p> <i class=\"pin_general\">리저브 매장 2번</i></li>,\n",
       " <li class=\"quickResultLstCon\" data-code=\"3648\" data-hlytag=\"null\" data-index=\"8\" data-lat=\"37.507750\" data-long=\"127.060651\" data-name=\"삼성역섬유센터R\" data-storecd=\"1438\" style=\"background:#fff\"> <strong data-my_siren_order_store_yn=\"N\" data-name=\"삼성역섬유센터R\" data-store=\"1438\" data-yn=\"N\">삼성역섬유센터R  </strong> <p class=\"result_details\">서울특별시 강남구 테헤란로 518 (대치동)<br/>1522-3232</p> <i class=\"pin_reserve\">리저브 매장 2번</i></li>,\n",
       " <li class=\"quickResultLstCon\" data-code=\"3623\" data-hlytag=\"null\" data-index=\"9\" data-lat=\"37.5273669\" data-long=\"127.033061\" data-name=\"압구정R\" data-storecd=\"1411\" style=\"background:#fff\"> <strong data-my_siren_order_store_yn=\"N\" data-name=\"압구정R\" data-store=\"1411\" data-yn=\"N\">압구정R  </strong> <p class=\"result_details\">서울특별시 강남구 언주로 861 (신사동)<br/>1522-3232</p> <i class=\"pin_reserve\">리저브 매장 2번</i></li>]"
      ]
     },
     "execution_count": 4,
     "metadata": {},
     "output_type": "execute_result"
    }
   ],
   "source": [
    "from bs4 import BeautifulSoup\n",
    "\n",
    "soup = BeautifulSoup(html)\n",
    "stores = soup.select('.quickResultLstCon')\n",
    "stores[:10]"
   ]
  },
  {
   "cell_type": "code",
   "execution_count": 5,
   "metadata": {},
   "outputs": [
    {
     "data": {
      "text/plain": [
       "[['역삼아레나빌딩', '37.501087', '127.043069', '서울특별시 강남구 언주로 425 (역삼동)'],\n",
       " ['논현역사거리', '37.510178', '127.022223', '서울특별시 강남구 강남대로 538 (논현동)'],\n",
       " ['신사역성일빌딩', '37.514132', '127.020563', '서울특별시 강남구 강남대로 584 (논현동)'],\n",
       " ['국기원사거리', '37.499517', '127.031495', '서울특별시 강남구 테헤란로 125 (역삼동)'],\n",
       " ['스탈릿대치R', '37.494668', '127.062583', '서울특별시 강남구 남부순환로 2947 (대치동)'],\n",
       " ['봉은사역', '37.515000', '127.063196', '서울특별시 강남구 봉은사로 619 (삼성동)'],\n",
       " ['압구정윤성빌딩', '37.5227934', '127.0286009', '서울특별시 강남구 논현로 834 (신사동)'],\n",
       " ['코엑스별마당', '37.510150', '127.060275', '서울특별시 강남구 영동대로 513 (삼성동)'],\n",
       " ['삼성역섬유센터R', '37.507750', '127.060651', '서울특별시 강남구 테헤란로 518 (대치동)'],\n",
       " ['압구정R', '37.5273669', '127.033061', '서울특별시 강남구 언주로 861 (신사동)']]"
      ]
     },
     "execution_count": 5,
     "metadata": {},
     "output_type": "execute_result"
    }
   ],
   "source": [
    "store_list = []\n",
    "\n",
    "for store in stores:\n",
    "    name = store['data-name'].strip()\n",
    "    lat = store['data-lat']\n",
    "    long = store['data-long']\n",
    "    address = store.find('p').get_text().split('1522')[0]\n",
    "    store_list.append([name, lat, long, address])\n",
    "\n",
    "store_list[:10]"
   ]
  },
  {
   "cell_type": "code",
   "execution_count": 6,
   "metadata": {},
   "outputs": [
    {
     "data": {
      "text/html": [
       "<div>\n",
       "<style scoped>\n",
       "    .dataframe tbody tr th:only-of-type {\n",
       "        vertical-align: middle;\n",
       "    }\n",
       "\n",
       "    .dataframe tbody tr th {\n",
       "        vertical-align: top;\n",
       "    }\n",
       "\n",
       "    .dataframe thead th {\n",
       "        text-align: right;\n",
       "    }\n",
       "</style>\n",
       "<table border=\"1\" class=\"dataframe\">\n",
       "  <thead>\n",
       "    <tr style=\"text-align: right;\">\n",
       "      <th></th>\n",
       "      <th>매장명</th>\n",
       "      <th>위도</th>\n",
       "      <th>경도</th>\n",
       "      <th>주소</th>\n",
       "    </tr>\n",
       "  </thead>\n",
       "  <tbody>\n",
       "    <tr>\n",
       "      <th>0</th>\n",
       "      <td>역삼아레나빌딩</td>\n",
       "      <td>37.501087</td>\n",
       "      <td>127.043069</td>\n",
       "      <td>서울특별시 강남구 언주로 425 (역삼동)</td>\n",
       "    </tr>\n",
       "    <tr>\n",
       "      <th>1</th>\n",
       "      <td>논현역사거리</td>\n",
       "      <td>37.510178</td>\n",
       "      <td>127.022223</td>\n",
       "      <td>서울특별시 강남구 강남대로 538 (논현동)</td>\n",
       "    </tr>\n",
       "    <tr>\n",
       "      <th>2</th>\n",
       "      <td>신사역성일빌딩</td>\n",
       "      <td>37.514132</td>\n",
       "      <td>127.020563</td>\n",
       "      <td>서울특별시 강남구 강남대로 584 (논현동)</td>\n",
       "    </tr>\n",
       "    <tr>\n",
       "      <th>3</th>\n",
       "      <td>국기원사거리</td>\n",
       "      <td>37.499517</td>\n",
       "      <td>127.031495</td>\n",
       "      <td>서울특별시 강남구 테헤란로 125 (역삼동)</td>\n",
       "    </tr>\n",
       "    <tr>\n",
       "      <th>4</th>\n",
       "      <td>스탈릿대치R</td>\n",
       "      <td>37.494668</td>\n",
       "      <td>127.062583</td>\n",
       "      <td>서울특별시 강남구 남부순환로 2947 (대치동)</td>\n",
       "    </tr>\n",
       "    <tr>\n",
       "      <th>...</th>\n",
       "      <td>...</td>\n",
       "      <td>...</td>\n",
       "      <td>...</td>\n",
       "      <td>...</td>\n",
       "    </tr>\n",
       "    <tr>\n",
       "      <th>558</th>\n",
       "      <td>사가정역</td>\n",
       "      <td>37.579594</td>\n",
       "      <td>127.087966</td>\n",
       "      <td>서울특별시 중랑구 면목로 310</td>\n",
       "    </tr>\n",
       "    <tr>\n",
       "      <th>559</th>\n",
       "      <td>상봉역</td>\n",
       "      <td>37.59689</td>\n",
       "      <td>127.08647</td>\n",
       "      <td>서울특별시 중랑구 망우로 307 (상봉동)</td>\n",
       "    </tr>\n",
       "    <tr>\n",
       "      <th>560</th>\n",
       "      <td>묵동이마트</td>\n",
       "      <td>37.613433</td>\n",
       "      <td>127.077484</td>\n",
       "      <td>서울특별시 중랑구 동일로 932 (묵동, 묵동자이아파트) (묵동이마트 B1층)</td>\n",
       "    </tr>\n",
       "    <tr>\n",
       "      <th>561</th>\n",
       "      <td>묵동</td>\n",
       "      <td>37.615368</td>\n",
       "      <td>127.076633</td>\n",
       "      <td>서울특별시 중랑구 동일로 952</td>\n",
       "    </tr>\n",
       "    <tr>\n",
       "      <th>562</th>\n",
       "      <td>중화역</td>\n",
       "      <td>37.60170912407773</td>\n",
       "      <td>127.07841136432036</td>\n",
       "      <td>서울특별시 중랑구 봉화산로 35 1,2층</td>\n",
       "    </tr>\n",
       "  </tbody>\n",
       "</table>\n",
       "<p>563 rows × 4 columns</p>\n",
       "</div>"
      ],
      "text/plain": [
       "         매장명                 위도                  경도  \\\n",
       "0    역삼아레나빌딩          37.501087          127.043069   \n",
       "1     논현역사거리          37.510178          127.022223   \n",
       "2    신사역성일빌딩          37.514132          127.020563   \n",
       "3     국기원사거리          37.499517          127.031495   \n",
       "4     스탈릿대치R          37.494668          127.062583   \n",
       "..       ...                ...                 ...   \n",
       "558     사가정역          37.579594          127.087966   \n",
       "559      상봉역           37.59689           127.08647   \n",
       "560    묵동이마트          37.613433          127.077484   \n",
       "561       묵동          37.615368          127.076633   \n",
       "562      중화역  37.60170912407773  127.07841136432036   \n",
       "\n",
       "                                              주소  \n",
       "0                        서울특별시 강남구 언주로 425 (역삼동)  \n",
       "1                       서울특별시 강남구 강남대로 538 (논현동)  \n",
       "2                       서울특별시 강남구 강남대로 584 (논현동)  \n",
       "3                       서울특별시 강남구 테헤란로 125 (역삼동)  \n",
       "4                     서울특별시 강남구 남부순환로 2947 (대치동)  \n",
       "..                                           ...  \n",
       "558                            서울특별시 중랑구 면목로 310  \n",
       "559                      서울특별시 중랑구 망우로 307 (상봉동)  \n",
       "560  서울특별시 중랑구 동일로 932 (묵동, 묵동자이아파트) (묵동이마트 B1층)  \n",
       "561                           서울특별시 중랑구 동일로 952   \n",
       "562                       서울특별시 중랑구 봉화산로 35 1,2층  \n",
       "\n",
       "[563 rows x 4 columns]"
      ]
     },
     "execution_count": 6,
     "metadata": {},
     "output_type": "execute_result"
    }
   ],
   "source": [
    "import pandas as pd\n",
    "columns = ['매장명', '위도', '경도',  '주소']\n",
    "df = pd.DataFrame(store_list, columns=columns)\n",
    "df"
   ]
  },
  {
   "cell_type": "code",
   "execution_count": null,
   "metadata": {},
   "outputs": [],
   "source": []
  }
 ],
 "metadata": {
  "kernelspec": {
   "display_name": "Python 3",
   "language": "python",
   "name": "python3"
  },
  "language_info": {
   "codemirror_mode": {
    "name": "ipython",
    "version": 3
   },
   "file_extension": ".py",
   "mimetype": "text/x-python",
   "name": "python",
   "nbconvert_exporter": "python",
   "pygments_lexer": "ipython3",
   "version": "3.8.5"
  }
 },
 "nbformat": 4,
 "nbformat_minor": 4
}

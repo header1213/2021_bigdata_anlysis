{
 "cells": [
  {
   "cell_type": "markdown",
   "metadata": {},
   "source": [
    "# 2. Open API 활용\n",
    "\n",
    "### 공공데이터포털 사이트 이용\n",
    "1. 공공데이터포털 사이트 회원가입 / 로그인\n",
    "2. 데이터 검색\n",
    "3. API 사용 요청, 키 발급\n",
    "4. API 매뉴얼 확인\n",
    "5. API 연동 개발 및 테스트"
   ]
  },
  {
   "cell_type": "markdown",
   "metadata": {},
   "source": [
    "https://www.data.go.kr/"
   ]
  },
  {
   "cell_type": "code",
   "execution_count": 1,
   "metadata": {},
   "outputs": [],
   "source": [
    "import requests\n",
    "import pandas as pd\n",
    "import xmltodict\n",
    "import json"
   ]
  },
  {
   "cell_type": "markdown",
   "metadata": {},
   "source": [
    "### 보건복지부-코로나19 감염현황 조회 서비스 (XML)"
   ]
  },
  {
   "cell_type": "code",
   "execution_count": 2,
   "metadata": {},
   "outputs": [
    {
     "data": {
      "text/plain": [
       "'http://openapi.data.go.kr/openapi/service/rest/Covid19/getCovid19InfStateJson?serviceKey=XpHBM4ur7iiH%2FQQgeKLwZ9L9uwQZgGkkyF9YfyEeyd1G43BSEuJusH2zN%2FukBHVsk792BrJOA5VY9hdweaYPNA%3D%3D&pageNo=1&numOfRows=10&startCreateDt=20210801&endCreateDt=20210830'"
      ]
     },
     "execution_count": 2,
     "metadata": {},
     "output_type": "execute_result"
    }
   ],
   "source": [
    "serviceKey = 'XpHBM4ur7iiH%2FQQgeKLwZ9L9uwQZgGkkyF9YfyEeyd1G43BSEuJusH2zN%2FukBHVsk792BrJOA5VY9hdweaYPNA%3D%3D'\n",
    "url = f'http://openapi.data.go.kr/openapi/service/rest/Covid19/getCovid19InfStateJson?serviceKey={serviceKey}&pageNo=1&numOfRows=10&startCreateDt=20210801&endCreateDt=20210830'\n",
    "url"
   ]
  },
  {
   "cell_type": "code",
   "execution_count": 3,
   "metadata": {},
   "outputs": [
    {
     "data": {
      "text/plain": [
       "<Response [200]>"
      ]
     },
     "execution_count": 3,
     "metadata": {},
     "output_type": "execute_result"
    }
   ],
   "source": [
    "res = requests.get(url)\n",
    "res"
   ]
  },
  {
   "cell_type": "code",
   "execution_count": 4,
   "metadata": {},
   "outputs": [],
   "source": [
    "# res.text"
   ]
  },
  {
   "cell_type": "code",
   "execution_count": 5,
   "metadata": {},
   "outputs": [],
   "source": [
    "temp = xmltodict.parse(res.text)\n",
    "# temp"
   ]
  },
  {
   "cell_type": "code",
   "execution_count": 6,
   "metadata": {},
   "outputs": [],
   "source": [
    "result = json.loads(json.dumps(temp))  # OrderedDict -> str(dict) -> dict\n",
    "# result"
   ]
  },
  {
   "cell_type": "code",
   "execution_count": 7,
   "metadata": {},
   "outputs": [],
   "source": [
    "items = result['response']['body']['items']['item']\n",
    "\n",
    "for item in items:\n",
    "    # print(item)\n",
    "    pass"
   ]
  },
  {
   "cell_type": "code",
   "execution_count": 8,
   "metadata": {},
   "outputs": [],
   "source": [
    "# 일자(STATE_DT), 확진자수(DECIDE_CNT), 사망자수(DEATH_CNT), 치료중환자수(CARE_CNT)\n",
    "state_dt = []\n",
    "decide_cnt = []\n",
    "death_cnt = []\n",
    "care_cnt = []\n",
    "\n",
    "for item in items:\n",
    "    state_dt.append(item['stateDt'])\n",
    "    decide_cnt.append(item['decideCnt'])\n",
    "    death_cnt.append(item['deathCnt'])\n",
    "    care_cnt.append(item['careCnt'])\n",
    "# state_dt"
   ]
  },
  {
   "cell_type": "code",
   "execution_count": 9,
   "metadata": {},
   "outputs": [],
   "source": [
    "# dataframe 생성\n",
    "df_data = {\n",
    "    '기준일': state_dt,\n",
    "    '확진자수': decide_cnt,\n",
    "    '사망자수': death_cnt,\n",
    "    '치료중환자수': care_cnt\n",
    "}\n",
    "# df_data"
   ]
  },
  {
   "cell_type": "code",
   "execution_count": 10,
   "metadata": {},
   "outputs": [
    {
     "data": {
      "text/html": [
       "<div>\n",
       "<style scoped>\n",
       "    .dataframe tbody tr th:only-of-type {\n",
       "        vertical-align: middle;\n",
       "    }\n",
       "\n",
       "    .dataframe tbody tr th {\n",
       "        vertical-align: top;\n",
       "    }\n",
       "\n",
       "    .dataframe thead th {\n",
       "        text-align: right;\n",
       "    }\n",
       "</style>\n",
       "<table border=\"1\" class=\"dataframe\">\n",
       "  <thead>\n",
       "    <tr style=\"text-align: right;\">\n",
       "      <th></th>\n",
       "      <th>기준일</th>\n",
       "      <th>확진자수</th>\n",
       "      <th>사망자수</th>\n",
       "      <th>치료중환자수</th>\n",
       "    </tr>\n",
       "  </thead>\n",
       "  <tbody>\n",
       "    <tr>\n",
       "      <th>0</th>\n",
       "      <td>20210830</td>\n",
       "      <td>250049</td>\n",
       "      <td>2284</td>\n",
       "      <td>27407</td>\n",
       "    </tr>\n",
       "    <tr>\n",
       "      <th>1</th>\n",
       "      <td>20210829</td>\n",
       "      <td>248561</td>\n",
       "      <td>2279</td>\n",
       "      <td>27556</td>\n",
       "    </tr>\n",
       "    <tr>\n",
       "      <th>2</th>\n",
       "      <td>20210828</td>\n",
       "      <td>246946</td>\n",
       "      <td>2276</td>\n",
       "      <td>27681</td>\n",
       "    </tr>\n",
       "    <tr>\n",
       "      <th>3</th>\n",
       "      <td>20210827</td>\n",
       "      <td>245153</td>\n",
       "      <td>2265</td>\n",
       "      <td>28215</td>\n",
       "    </tr>\n",
       "    <tr>\n",
       "      <th>4</th>\n",
       "      <td>20210826</td>\n",
       "      <td>243315</td>\n",
       "      <td>2257</td>\n",
       "      <td>28187</td>\n",
       "    </tr>\n",
       "    <tr>\n",
       "      <th>5</th>\n",
       "      <td>20210825</td>\n",
       "      <td>241433</td>\n",
       "      <td>2237</td>\n",
       "      <td>28019</td>\n",
       "    </tr>\n",
       "    <tr>\n",
       "      <th>6</th>\n",
       "      <td>20210824</td>\n",
       "      <td>239279</td>\n",
       "      <td>2228</td>\n",
       "      <td>27858</td>\n",
       "    </tr>\n",
       "    <tr>\n",
       "      <th>7</th>\n",
       "      <td>20210823</td>\n",
       "      <td>237772</td>\n",
       "      <td>2222</td>\n",
       "      <td>27949</td>\n",
       "    </tr>\n",
       "    <tr>\n",
       "      <th>8</th>\n",
       "      <td>20210822</td>\n",
       "      <td>236355</td>\n",
       "      <td>2215</td>\n",
       "      <td>27864</td>\n",
       "    </tr>\n",
       "    <tr>\n",
       "      <th>9</th>\n",
       "      <td>20210821</td>\n",
       "      <td>234729</td>\n",
       "      <td>2202</td>\n",
       "      <td>28009</td>\n",
       "    </tr>\n",
       "    <tr>\n",
       "      <th>10</th>\n",
       "      <td>20210820</td>\n",
       "      <td>232852</td>\n",
       "      <td>2197</td>\n",
       "      <td>27880</td>\n",
       "    </tr>\n",
       "    <tr>\n",
       "      <th>11</th>\n",
       "      <td>20210819</td>\n",
       "      <td>230802</td>\n",
       "      <td>2191</td>\n",
       "      <td>27376</td>\n",
       "    </tr>\n",
       "    <tr>\n",
       "      <th>12</th>\n",
       "      <td>20210818</td>\n",
       "      <td>228650</td>\n",
       "      <td>2178</td>\n",
       "      <td>26890</td>\n",
       "    </tr>\n",
       "    <tr>\n",
       "      <th>13</th>\n",
       "      <td>20210817</td>\n",
       "      <td>226846</td>\n",
       "      <td>2173</td>\n",
       "      <td>27449</td>\n",
       "    </tr>\n",
       "    <tr>\n",
       "      <th>14</th>\n",
       "      <td>20210816</td>\n",
       "      <td>225474</td>\n",
       "      <td>2167</td>\n",
       "      <td>27109</td>\n",
       "    </tr>\n",
       "    <tr>\n",
       "      <th>15</th>\n",
       "      <td>20210815</td>\n",
       "      <td>223919</td>\n",
       "      <td>2156</td>\n",
       "      <td>26660</td>\n",
       "    </tr>\n",
       "    <tr>\n",
       "      <th>16</th>\n",
       "      <td>20210814</td>\n",
       "      <td>222103</td>\n",
       "      <td>2148</td>\n",
       "      <td>26177</td>\n",
       "    </tr>\n",
       "    <tr>\n",
       "      <th>17</th>\n",
       "      <td>20210813</td>\n",
       "      <td>220175</td>\n",
       "      <td>2144</td>\n",
       "      <td>25783</td>\n",
       "    </tr>\n",
       "    <tr>\n",
       "      <th>18</th>\n",
       "      <td>20210812</td>\n",
       "      <td>218186</td>\n",
       "      <td>2138</td>\n",
       "      <td>25512</td>\n",
       "    </tr>\n",
       "    <tr>\n",
       "      <th>19</th>\n",
       "      <td>20210811</td>\n",
       "      <td>216199</td>\n",
       "      <td>2135</td>\n",
       "      <td>24558</td>\n",
       "    </tr>\n",
       "    <tr>\n",
       "      <th>20</th>\n",
       "      <td>20210810</td>\n",
       "      <td>213978</td>\n",
       "      <td>2134</td>\n",
       "      <td>24320</td>\n",
       "    </tr>\n",
       "    <tr>\n",
       "      <th>21</th>\n",
       "      <td>20210809</td>\n",
       "      <td>212441</td>\n",
       "      <td>2125</td>\n",
       "      <td>24073</td>\n",
       "    </tr>\n",
       "    <tr>\n",
       "      <th>22</th>\n",
       "      <td>20210808</td>\n",
       "      <td>210950</td>\n",
       "      <td>2121</td>\n",
       "      <td>23826</td>\n",
       "    </tr>\n",
       "    <tr>\n",
       "      <th>23</th>\n",
       "      <td>20210807</td>\n",
       "      <td>209222</td>\n",
       "      <td>2116</td>\n",
       "      <td>23318</td>\n",
       "    </tr>\n",
       "    <tr>\n",
       "      <th>24</th>\n",
       "      <td>20210806</td>\n",
       "      <td>207399</td>\n",
       "      <td>2113</td>\n",
       "      <td>23232</td>\n",
       "    </tr>\n",
       "    <tr>\n",
       "      <th>25</th>\n",
       "      <td>20210805</td>\n",
       "      <td>205695</td>\n",
       "      <td>2109</td>\n",
       "      <td>22865</td>\n",
       "    </tr>\n",
       "    <tr>\n",
       "      <th>26</th>\n",
       "      <td>20210804</td>\n",
       "      <td>203920</td>\n",
       "      <td>2106</td>\n",
       "      <td>22688</td>\n",
       "    </tr>\n",
       "    <tr>\n",
       "      <th>27</th>\n",
       "      <td>20210803</td>\n",
       "      <td>202195</td>\n",
       "      <td>2104</td>\n",
       "      <td>22181</td>\n",
       "    </tr>\n",
       "    <tr>\n",
       "      <th>28</th>\n",
       "      <td>20210802</td>\n",
       "      <td>200995</td>\n",
       "      <td>2099</td>\n",
       "      <td>22296</td>\n",
       "    </tr>\n",
       "    <tr>\n",
       "      <th>29</th>\n",
       "      <td>20210801</td>\n",
       "      <td>199777</td>\n",
       "      <td>2098</td>\n",
       "      <td>22006</td>\n",
       "    </tr>\n",
       "  </tbody>\n",
       "</table>\n",
       "</div>"
      ],
      "text/plain": [
       "         기준일    확진자수  사망자수 치료중환자수\n",
       "0   20210830  250049  2284  27407\n",
       "1   20210829  248561  2279  27556\n",
       "2   20210828  246946  2276  27681\n",
       "3   20210827  245153  2265  28215\n",
       "4   20210826  243315  2257  28187\n",
       "5   20210825  241433  2237  28019\n",
       "6   20210824  239279  2228  27858\n",
       "7   20210823  237772  2222  27949\n",
       "8   20210822  236355  2215  27864\n",
       "9   20210821  234729  2202  28009\n",
       "10  20210820  232852  2197  27880\n",
       "11  20210819  230802  2191  27376\n",
       "12  20210818  228650  2178  26890\n",
       "13  20210817  226846  2173  27449\n",
       "14  20210816  225474  2167  27109\n",
       "15  20210815  223919  2156  26660\n",
       "16  20210814  222103  2148  26177\n",
       "17  20210813  220175  2144  25783\n",
       "18  20210812  218186  2138  25512\n",
       "19  20210811  216199  2135  24558\n",
       "20  20210810  213978  2134  24320\n",
       "21  20210809  212441  2125  24073\n",
       "22  20210808  210950  2121  23826\n",
       "23  20210807  209222  2116  23318\n",
       "24  20210806  207399  2113  23232\n",
       "25  20210805  205695  2109  22865\n",
       "26  20210804  203920  2106  22688\n",
       "27  20210803  202195  2104  22181\n",
       "28  20210802  200995  2099  22296\n",
       "29  20210801  199777  2098  22006"
      ]
     },
     "execution_count": 10,
     "metadata": {},
     "output_type": "execute_result"
    }
   ],
   "source": [
    "df = pd.DataFrame(df_data)\n",
    "df"
   ]
  },
  {
   "cell_type": "markdown",
   "metadata": {},
   "source": [
    "### 한국관광공사 - 관광정보서비스 (JSON)"
   ]
  },
  {
   "cell_type": "code",
   "execution_count": 11,
   "metadata": {},
   "outputs": [
    {
     "data": {
      "text/plain": [
       "'http://api.visitkorea.or.kr/openapi/service/rest/KorService/areaCode?ServiceKey=XpHBM4ur7iiH%2FQQgeKLwZ9L9uwQZgGkkyF9YfyEeyd1G43BSEuJusH2zN%2FukBHVsk792BrJOA5VY9hdweaYPNA%3D%3D&numOfRows=10&pageNo=1&MobileOS=ETC&MobileApp=AppTest&_type=json'"
      ]
     },
     "execution_count": 11,
     "metadata": {},
     "output_type": "execute_result"
    }
   ],
   "source": [
    "serviceKey = 'XpHBM4ur7iiH%2FQQgeKLwZ9L9uwQZgGkkyF9YfyEeyd1G43BSEuJusH2zN%2FukBHVsk792BrJOA5VY9hdweaYPNA%3D%3D'\n",
    "pageNo = 1\n",
    "\n",
    "url = f'http://api.visitkorea.or.kr/openapi/service/rest/KorService/areaCode?ServiceKey={serviceKey}&numOfRows=10&pageNo={pageNo}&MobileOS=ETC&MobileApp=AppTest&_type=json'\n",
    "url"
   ]
  },
  {
   "cell_type": "code",
   "execution_count": 12,
   "metadata": {},
   "outputs": [
    {
     "data": {
      "text/plain": [
       "<Response [200]>"
      ]
     },
     "execution_count": 12,
     "metadata": {},
     "output_type": "execute_result"
    }
   ],
   "source": [
    "res = requests.get(url)\n",
    "res"
   ]
  },
  {
   "cell_type": "code",
   "execution_count": 13,
   "metadata": {},
   "outputs": [
    {
     "data": {
      "text/plain": [
       "'{\"response\":{\"header\":{\"resultCode\":\"0000\",\"resultMsg\":\"OK\"},\"body\":{\"items\":{\"item\":[{\"code\":1,\"name\":\"서울\",\"rnum\":1},{\"code\":2,\"name\":\"인천\",\"rnum\":2},{\"code\":3,\"name\":\"대전\",\"rnum\":3},{\"code\":4,\"name\":\"대구\",\"rnum\":4},{\"code\":5,\"name\":\"광주\",\"rnum\":5},{\"code\":6,\"name\":\"부산\",\"rnum\":6},{\"code\":7,\"name\":\"울산\",\"rnum\":7},{\"code\":8,\"name\":\"세종특별자치시\",\"rnum\":8},{\"code\":31,\"name\":\"경기도\",\"rnum\":9},{\"code\":32,\"name\":\"강원도\",\"rnum\":10}]},\"numOfRows\":10,\"pageNo\":1,\"totalCount\":17}}}'"
      ]
     },
     "execution_count": 13,
     "metadata": {},
     "output_type": "execute_result"
    }
   ],
   "source": [
    "res.text"
   ]
  },
  {
   "cell_type": "code",
   "execution_count": 14,
   "metadata": {},
   "outputs": [
    {
     "data": {
      "text/plain": [
       "{'response': {'header': {'resultCode': '0000', 'resultMsg': 'OK'},\n",
       "  'body': {'items': {'item': [{'code': 1, 'name': '서울', 'rnum': 1},\n",
       "     {'code': 2, 'name': '인천', 'rnum': 2},\n",
       "     {'code': 3, 'name': '대전', 'rnum': 3},\n",
       "     {'code': 4, 'name': '대구', 'rnum': 4},\n",
       "     {'code': 5, 'name': '광주', 'rnum': 5},\n",
       "     {'code': 6, 'name': '부산', 'rnum': 6},\n",
       "     {'code': 7, 'name': '울산', 'rnum': 7},\n",
       "     {'code': 8, 'name': '세종특별자치시', 'rnum': 8},\n",
       "     {'code': 31, 'name': '경기도', 'rnum': 9},\n",
       "     {'code': 32, 'name': '강원도', 'rnum': 10}]},\n",
       "   'numOfRows': 10,\n",
       "   'pageNo': 1,\n",
       "   'totalCount': 17}}}"
      ]
     },
     "execution_count": 14,
     "metadata": {},
     "output_type": "execute_result"
    }
   ],
   "source": [
    "data = res.json()\n",
    "data"
   ]
  },
  {
   "cell_type": "code",
   "execution_count": 15,
   "metadata": {},
   "outputs": [
    {
     "data": {
      "text/plain": [
       "(10, 17)"
      ]
     },
     "execution_count": 15,
     "metadata": {},
     "output_type": "execute_result"
    }
   ],
   "source": [
    "numOfRows = data['response']['body']['numOfRows']\n",
    "totalCount = data['response']['body']['totalCount']\n",
    "\n",
    "numOfRows, totalCount"
   ]
  },
  {
   "cell_type": "code",
   "execution_count": 16,
   "metadata": {},
   "outputs": [
    {
     "data": {
      "text/plain": [
       "2"
      ]
     },
     "execution_count": 16,
     "metadata": {},
     "output_type": "execute_result"
    }
   ],
   "source": [
    "queryCount = (totalCount - 1) // numOfRows + 1\n",
    "queryCount"
   ]
  },
  {
   "cell_type": "code",
   "execution_count": 17,
   "metadata": {},
   "outputs": [
    {
     "data": {
      "text/plain": [
       "['서울',\n",
       " '인천',\n",
       " '대전',\n",
       " '대구',\n",
       " '광주',\n",
       " '부산',\n",
       " '울산',\n",
       " '세종특별자치시',\n",
       " '경기도',\n",
       " '강원도',\n",
       " '충청북도',\n",
       " '충청남도',\n",
       " '경상북도',\n",
       " '경상남도',\n",
       " '전라북도',\n",
       " '전라남도',\n",
       " '제주도']"
      ]
     },
     "execution_count": 17,
     "metadata": {},
     "output_type": "execute_result"
    }
   ],
   "source": [
    "code = []\n",
    "name = []\n",
    "rnum = []\n",
    "\n",
    "for i in range(queryCount):  # 0~1\n",
    "    pageNo = i + 1  # 1~2\n",
    "    url = f'http://api.visitkorea.or.kr/openapi/service/rest/KorService/areaCode?ServiceKey={serviceKey}&numOfRows=10&pageNo={pageNo}&MobileOS=ETC&MobileApp=AppTest&_type=json'\n",
    "    res = requests.get(url)\n",
    "    data = res.json()\n",
    "    \n",
    "    items = data['response']['body']['items']['item']\n",
    "    \n",
    "    for item in items:\n",
    "        code.append(item['code'])\n",
    "        name.append(item['name'])\n",
    "        rnum.append(item['rnum'])\n",
    "name"
   ]
  },
  {
   "cell_type": "code",
   "execution_count": 18,
   "metadata": {},
   "outputs": [
    {
     "data": {
      "text/html": [
       "<div>\n",
       "<style scoped>\n",
       "    .dataframe tbody tr th:only-of-type {\n",
       "        vertical-align: middle;\n",
       "    }\n",
       "\n",
       "    .dataframe tbody tr th {\n",
       "        vertical-align: top;\n",
       "    }\n",
       "\n",
       "    .dataframe thead th {\n",
       "        text-align: right;\n",
       "    }\n",
       "</style>\n",
       "<table border=\"1\" class=\"dataframe\">\n",
       "  <thead>\n",
       "    <tr style=\"text-align: right;\">\n",
       "      <th></th>\n",
       "      <th>code</th>\n",
       "      <th>name</th>\n",
       "      <th>rnum</th>\n",
       "    </tr>\n",
       "  </thead>\n",
       "  <tbody>\n",
       "    <tr>\n",
       "      <th>0</th>\n",
       "      <td>1</td>\n",
       "      <td>서울</td>\n",
       "      <td>1</td>\n",
       "    </tr>\n",
       "    <tr>\n",
       "      <th>1</th>\n",
       "      <td>2</td>\n",
       "      <td>인천</td>\n",
       "      <td>2</td>\n",
       "    </tr>\n",
       "    <tr>\n",
       "      <th>2</th>\n",
       "      <td>3</td>\n",
       "      <td>대전</td>\n",
       "      <td>3</td>\n",
       "    </tr>\n",
       "    <tr>\n",
       "      <th>3</th>\n",
       "      <td>4</td>\n",
       "      <td>대구</td>\n",
       "      <td>4</td>\n",
       "    </tr>\n",
       "    <tr>\n",
       "      <th>4</th>\n",
       "      <td>5</td>\n",
       "      <td>광주</td>\n",
       "      <td>5</td>\n",
       "    </tr>\n",
       "    <tr>\n",
       "      <th>5</th>\n",
       "      <td>6</td>\n",
       "      <td>부산</td>\n",
       "      <td>6</td>\n",
       "    </tr>\n",
       "    <tr>\n",
       "      <th>6</th>\n",
       "      <td>7</td>\n",
       "      <td>울산</td>\n",
       "      <td>7</td>\n",
       "    </tr>\n",
       "    <tr>\n",
       "      <th>7</th>\n",
       "      <td>8</td>\n",
       "      <td>세종특별자치시</td>\n",
       "      <td>8</td>\n",
       "    </tr>\n",
       "    <tr>\n",
       "      <th>8</th>\n",
       "      <td>31</td>\n",
       "      <td>경기도</td>\n",
       "      <td>9</td>\n",
       "    </tr>\n",
       "    <tr>\n",
       "      <th>9</th>\n",
       "      <td>32</td>\n",
       "      <td>강원도</td>\n",
       "      <td>10</td>\n",
       "    </tr>\n",
       "    <tr>\n",
       "      <th>10</th>\n",
       "      <td>33</td>\n",
       "      <td>충청북도</td>\n",
       "      <td>11</td>\n",
       "    </tr>\n",
       "    <tr>\n",
       "      <th>11</th>\n",
       "      <td>34</td>\n",
       "      <td>충청남도</td>\n",
       "      <td>12</td>\n",
       "    </tr>\n",
       "    <tr>\n",
       "      <th>12</th>\n",
       "      <td>35</td>\n",
       "      <td>경상북도</td>\n",
       "      <td>13</td>\n",
       "    </tr>\n",
       "    <tr>\n",
       "      <th>13</th>\n",
       "      <td>36</td>\n",
       "      <td>경상남도</td>\n",
       "      <td>14</td>\n",
       "    </tr>\n",
       "    <tr>\n",
       "      <th>14</th>\n",
       "      <td>37</td>\n",
       "      <td>전라북도</td>\n",
       "      <td>15</td>\n",
       "    </tr>\n",
       "    <tr>\n",
       "      <th>15</th>\n",
       "      <td>38</td>\n",
       "      <td>전라남도</td>\n",
       "      <td>16</td>\n",
       "    </tr>\n",
       "    <tr>\n",
       "      <th>16</th>\n",
       "      <td>39</td>\n",
       "      <td>제주도</td>\n",
       "      <td>17</td>\n",
       "    </tr>\n",
       "  </tbody>\n",
       "</table>\n",
       "</div>"
      ],
      "text/plain": [
       "    code     name  rnum\n",
       "0      1       서울     1\n",
       "1      2       인천     2\n",
       "2      3       대전     3\n",
       "3      4       대구     4\n",
       "4      5       광주     5\n",
       "5      6       부산     6\n",
       "6      7       울산     7\n",
       "7      8  세종특별자치시     8\n",
       "8     31      경기도     9\n",
       "9     32      강원도    10\n",
       "10    33     충청북도    11\n",
       "11    34     충청남도    12\n",
       "12    35     경상북도    13\n",
       "13    36     경상남도    14\n",
       "14    37     전라북도    15\n",
       "15    38     전라남도    16\n",
       "16    39      제주도    17"
      ]
     },
     "execution_count": 18,
     "metadata": {},
     "output_type": "execute_result"
    }
   ],
   "source": [
    "df_data = {\n",
    "    'code': code,\n",
    "    'name': name,\n",
    "    'rnum': rnum\n",
    "}\n",
    "\n",
    "df = pd.DataFrame(data=df_data)\n",
    "df"
   ]
  }
 ],
 "metadata": {
  "kernelspec": {
   "display_name": "Python 3",
   "language": "python",
   "name": "python3"
  },
  "language_info": {
   "codemirror_mode": {
    "name": "ipython",
    "version": 3
   },
   "file_extension": ".py",
   "mimetype": "text/x-python",
   "name": "python",
   "nbconvert_exporter": "python",
   "pygments_lexer": "ipython3",
   "version": "3.9.5"
  }
 },
 "nbformat": 4,
 "nbformat_minor": 4
}

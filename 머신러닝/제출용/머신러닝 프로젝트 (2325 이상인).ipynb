{
  "cells": [
    {
      "cell_type": "markdown",
      "metadata": {
        "id": "gDZtQMdNLIm6"
      },
      "source": [
        "# 1. 문제 정의\n",
        "\n",
        "* 문제 상황 : 디미는 아이돌이 되기 위해 자신이 그룹과 솔로 중 어디에 어울릴지 고민하고 있다. 또, 그룹이라면 몇 인조 그룹에 어울리는지가 궁금하다.\n",
        "\n",
        "* 문제 정의 : 지금까지의 K-POP 아이돌들의 정보를 분석하여 디미가 몇 인조로 데뷔해야 할지 알려주자."
      ]
    },
    {
      "cell_type": "markdown",
      "metadata": {
        "id": "OAMbE7-cBZrw"
      },
      "source": [
        "# 2. 데이터 수집\n",
        "\n",
        "* 데이터 수집 출처 : [K-Pop Database (1992-2020)](https://www.kaggle.com/kimjihoo/kpopdb)\n",
        "\n",
        "* 파일명 : kpop_idols.csv\n",
        "\n",
        "* 독립변수 : 10개\n",
        "  * Stage Name : 무대명\n",
        "  * Full Name : 실명\n",
        "  * Korean Name : 한국명\n",
        "  * K. Stage Name : 한국 무대명\n",
        "  * Date of Birth : 생년월일\n",
        "  * Group : 그룹명\n",
        "  * Country : 국적\n",
        "  * Birthplace : 출생지\n",
        "  * Other Group : 다른 그룹명\n",
        "  * Gender : 성별"
      ]
    },
    {
      "cell_type": "code",
      "execution_count": 1,
      "metadata": {
        "colab": {
          "base_uri": "https://localhost:8080/"
        },
        "id": "vumxmydib-ft",
        "outputId": "69e49471-b629-4c65-b346-b15189c1b2d1"
      },
      "outputs": [
        {
          "data": {
            "text/plain": [
              "(1310, 10)"
            ]
          },
          "execution_count": 1,
          "metadata": {},
          "output_type": "execute_result"
        }
      ],
      "source": [
        "# 데이터 가져오기\n",
        "import numpy as np\n",
        "import pandas as pd\n",
        "\n",
        "df = pd.read_csv('./kpop/kpop_idols.csv')\n",
        "df.shape"
      ]
    },
    {
      "cell_type": "code",
      "execution_count": 2,
      "metadata": {
        "colab": {
          "base_uri": "https://localhost:8080/"
        },
        "id": "4IW1nqIddFgz",
        "outputId": "286d9f71-cac5-434f-924c-dfaf3989406e"
      },
      "outputs": [
        {
          "name": "stdout",
          "output_type": "stream",
          "text": [
            "<class 'pandas.core.frame.DataFrame'>\n",
            "RangeIndex: 1310 entries, 0 to 1309\n",
            "Data columns (total 10 columns):\n",
            " #   Column         Non-Null Count  Dtype \n",
            "---  ------         --------------  ----- \n",
            " 0   Stage Name     1310 non-null   object\n",
            " 1   Full Name      1304 non-null   object\n",
            " 2   Korean Name    1304 non-null   object\n",
            " 3   K. Stage Name  1309 non-null   object\n",
            " 4   Date of Birth  1310 non-null   object\n",
            " 5   Group          1219 non-null   object\n",
            " 6   Country        1310 non-null   object\n",
            " 7   Birthplace     689 non-null    object\n",
            " 8   Other Group    122 non-null    object\n",
            " 9   Gender         1310 non-null   object\n",
            "dtypes: object(10)\n",
            "memory usage: 102.5+ KB\n"
          ]
        }
      ],
      "source": [
        "# 열 정보 살펴보기\n",
        "df.info()"
      ]
    },
    {
      "cell_type": "markdown",
      "metadata": {
        "id": "KzXRa0YNuyzi"
      },
      "source": [
        "# 3. 데이터 전처리"
      ]
    },
    {
      "cell_type": "markdown",
      "metadata": {},
      "source": [
        "### 불필요한 속성 삭제하기"
      ]
    },
    {
      "cell_type": "code",
      "execution_count": 3,
      "metadata": {},
      "outputs": [
        {
          "data": {
            "text/plain": [
              "Index(['Date of Birth', 'Group', 'Country', 'Other Group', 'Gender'], dtype='object')"
            ]
          },
          "execution_count": 3,
          "metadata": {},
          "output_type": "execute_result"
        }
      ],
      "source": [
        "df.drop(['Stage Name', 'Full Name', 'Korean Name', 'K. Stage Name', 'Birthplace'], axis=1, inplace=True)\n",
        "df.columns"
      ]
    },
    {
      "cell_type": "markdown",
      "metadata": {},
      "source": [
        "* unique한 데이터가 많아 처리가 어려운 이름 및 출생지 컬럼을 drop하였다."
      ]
    },
    {
      "cell_type": "markdown",
      "metadata": {},
      "source": [
        "### 결측치 확인 후 처리하기"
      ]
    },
    {
      "cell_type": "code",
      "execution_count": 4,
      "metadata": {
        "colab": {
          "base_uri": "https://localhost:8080/"
        },
        "id": "u6rOrz0FdDjN",
        "outputId": "e635aad2-4918-418e-d7f5-a69c1f0178b4"
      },
      "outputs": [
        {
          "data": {
            "text/plain": [
              "Date of Birth       0\n",
              "Group              91\n",
              "Country             0\n",
              "Other Group      1188\n",
              "Gender              0\n",
              "dtype: int64"
            ]
          },
          "execution_count": 4,
          "metadata": {},
          "output_type": "execute_result"
        }
      ],
      "source": [
        "# 결측치 개수\n",
        "df.isnull().sum()"
      ]
    },
    {
      "cell_type": "markdown",
      "metadata": {
        "colab": {
          "base_uri": "https://localhost:8080/"
        },
        "id": "I8uQ5LVRdbPr",
        "outputId": "9aa67e97-4b9e-497b-f86b-58d30472dd2d"
      },
      "source": [
        "* Group이 없으면 솔로 가수이고 Other Group이 있으면 여러 그룹에서 활동한 아이돌이다."
      ]
    },
    {
      "cell_type": "markdown",
      "metadata": {},
      "source": [
        "### 데이터 변환하기\n",
        "\n",
        "* object형인 생년월일 변환\n",
        "\n",
        "* 범주형 데이터 변환"
      ]
    },
    {
      "cell_type": "code",
      "execution_count": 5,
      "metadata": {},
      "outputs": [
        {
          "data": {
            "text/html": [
              "<div>\n",
              "<style scoped>\n",
              "    .dataframe tbody tr th:only-of-type {\n",
              "        vertical-align: middle;\n",
              "    }\n",
              "\n",
              "    .dataframe tbody tr th {\n",
              "        vertical-align: top;\n",
              "    }\n",
              "\n",
              "    .dataframe thead th {\n",
              "        text-align: right;\n",
              "    }\n",
              "</style>\n",
              "<table border=\"1\" class=\"dataframe\">\n",
              "  <thead>\n",
              "    <tr style=\"text-align: right;\">\n",
              "      <th></th>\n",
              "      <th>Group</th>\n",
              "      <th>Country</th>\n",
              "      <th>Other Group</th>\n",
              "      <th>Gender</th>\n",
              "      <th>bYear</th>\n",
              "      <th>bMonth</th>\n",
              "      <th>bDay</th>\n",
              "    </tr>\n",
              "  </thead>\n",
              "  <tbody>\n",
              "    <tr>\n",
              "      <th>0</th>\n",
              "      <td>Limitless</td>\n",
              "      <td>South Korea</td>\n",
              "      <td>NaN</td>\n",
              "      <td>M</td>\n",
              "      <td>1996</td>\n",
              "      <td>12</td>\n",
              "      <td>31</td>\n",
              "    </tr>\n",
              "    <tr>\n",
              "      <th>1</th>\n",
              "      <td>VAV</td>\n",
              "      <td>South Korea</td>\n",
              "      <td>NaN</td>\n",
              "      <td>M</td>\n",
              "      <td>1992</td>\n",
              "      <td>8</td>\n",
              "      <td>28</td>\n",
              "    </tr>\n",
              "    <tr>\n",
              "      <th>2</th>\n",
              "      <td>Hashtag</td>\n",
              "      <td>South Korea</td>\n",
              "      <td>NaN</td>\n",
              "      <td>F</td>\n",
              "      <td>1999</td>\n",
              "      <td>10</td>\n",
              "      <td>25</td>\n",
              "    </tr>\n",
              "    <tr>\n",
              "      <th>3</th>\n",
              "      <td>MOMOLAND</td>\n",
              "      <td>South Korea</td>\n",
              "      <td>NaN</td>\n",
              "      <td>F</td>\n",
              "      <td>1999</td>\n",
              "      <td>9</td>\n",
              "      <td>27</td>\n",
              "    </tr>\n",
              "    <tr>\n",
              "      <th>4</th>\n",
              "      <td>Favorite</td>\n",
              "      <td>South Korea</td>\n",
              "      <td>NaN</td>\n",
              "      <td>F</td>\n",
              "      <td>2001</td>\n",
              "      <td>2</td>\n",
              "      <td>21</td>\n",
              "    </tr>\n",
              "  </tbody>\n",
              "</table>\n",
              "</div>"
            ],
            "text/plain": [
              "       Group      Country Other Group Gender  bYear  bMonth  bDay\n",
              "0  Limitless  South Korea         NaN      M   1996      12    31\n",
              "1        VAV  South Korea         NaN      M   1992       8    28\n",
              "2    Hashtag  South Korea         NaN      F   1999      10    25\n",
              "3   MOMOLAND  South Korea         NaN      F   1999       9    27\n",
              "4   Favorite  South Korea         NaN      F   2001       2    21"
            ]
          },
          "execution_count": 5,
          "metadata": {},
          "output_type": "execute_result"
        }
      ],
      "source": [
        "# 생년/월/일을 각각 int로 컬럼 생성\n",
        "birth = [i.split('-') for i in df['Date of Birth']]\n",
        "df['bYear'] = [int(i[0]) for i in birth]\n",
        "df['bMonth'] = [int(i[1]) for i in birth]\n",
        "df['bDay'] = [int(i[2]) for i in birth]\n",
        "df.drop('Date of Birth', axis=1, inplace=True)\n",
        "df.head()"
      ]
    },
    {
      "cell_type": "code",
      "execution_count": 6,
      "metadata": {},
      "outputs": [
        {
          "data": {
            "text/html": [
              "<div>\n",
              "<style scoped>\n",
              "    .dataframe tbody tr th:only-of-type {\n",
              "        vertical-align: middle;\n",
              "    }\n",
              "\n",
              "    .dataframe tbody tr th {\n",
              "        vertical-align: top;\n",
              "    }\n",
              "\n",
              "    .dataframe thead th {\n",
              "        text-align: right;\n",
              "    }\n",
              "</style>\n",
              "<table border=\"1\" class=\"dataframe\">\n",
              "  <thead>\n",
              "    <tr style=\"text-align: right;\">\n",
              "      <th></th>\n",
              "      <th>Group</th>\n",
              "      <th>Other Group</th>\n",
              "      <th>bYear</th>\n",
              "      <th>bMonth</th>\n",
              "      <th>bDay</th>\n",
              "      <th>Country_Australia</th>\n",
              "      <th>Country_Canada</th>\n",
              "      <th>Country_China</th>\n",
              "      <th>Country_Hong Kong</th>\n",
              "      <th>Country_Indonesia</th>\n",
              "      <th>Country_Japan</th>\n",
              "      <th>Country_Malaysia</th>\n",
              "      <th>Country_Philippines</th>\n",
              "      <th>Country_South Korea</th>\n",
              "      <th>Country_Taiwan</th>\n",
              "      <th>Country_Thailand</th>\n",
              "      <th>Country_USA</th>\n",
              "      <th>Gender_F</th>\n",
              "      <th>Gender_M</th>\n",
              "    </tr>\n",
              "  </thead>\n",
              "  <tbody>\n",
              "    <tr>\n",
              "      <th>0</th>\n",
              "      <td>Limitless</td>\n",
              "      <td>NaN</td>\n",
              "      <td>1996</td>\n",
              "      <td>12</td>\n",
              "      <td>31</td>\n",
              "      <td>0</td>\n",
              "      <td>0</td>\n",
              "      <td>0</td>\n",
              "      <td>0</td>\n",
              "      <td>0</td>\n",
              "      <td>0</td>\n",
              "      <td>0</td>\n",
              "      <td>0</td>\n",
              "      <td>1</td>\n",
              "      <td>0</td>\n",
              "      <td>0</td>\n",
              "      <td>0</td>\n",
              "      <td>0</td>\n",
              "      <td>1</td>\n",
              "    </tr>\n",
              "    <tr>\n",
              "      <th>1</th>\n",
              "      <td>VAV</td>\n",
              "      <td>NaN</td>\n",
              "      <td>1992</td>\n",
              "      <td>8</td>\n",
              "      <td>28</td>\n",
              "      <td>0</td>\n",
              "      <td>0</td>\n",
              "      <td>0</td>\n",
              "      <td>0</td>\n",
              "      <td>0</td>\n",
              "      <td>0</td>\n",
              "      <td>0</td>\n",
              "      <td>0</td>\n",
              "      <td>1</td>\n",
              "      <td>0</td>\n",
              "      <td>0</td>\n",
              "      <td>0</td>\n",
              "      <td>0</td>\n",
              "      <td>1</td>\n",
              "    </tr>\n",
              "    <tr>\n",
              "      <th>2</th>\n",
              "      <td>Hashtag</td>\n",
              "      <td>NaN</td>\n",
              "      <td>1999</td>\n",
              "      <td>10</td>\n",
              "      <td>25</td>\n",
              "      <td>0</td>\n",
              "      <td>0</td>\n",
              "      <td>0</td>\n",
              "      <td>0</td>\n",
              "      <td>0</td>\n",
              "      <td>0</td>\n",
              "      <td>0</td>\n",
              "      <td>0</td>\n",
              "      <td>1</td>\n",
              "      <td>0</td>\n",
              "      <td>0</td>\n",
              "      <td>0</td>\n",
              "      <td>1</td>\n",
              "      <td>0</td>\n",
              "    </tr>\n",
              "    <tr>\n",
              "      <th>3</th>\n",
              "      <td>MOMOLAND</td>\n",
              "      <td>NaN</td>\n",
              "      <td>1999</td>\n",
              "      <td>9</td>\n",
              "      <td>27</td>\n",
              "      <td>0</td>\n",
              "      <td>0</td>\n",
              "      <td>0</td>\n",
              "      <td>0</td>\n",
              "      <td>0</td>\n",
              "      <td>0</td>\n",
              "      <td>0</td>\n",
              "      <td>0</td>\n",
              "      <td>1</td>\n",
              "      <td>0</td>\n",
              "      <td>0</td>\n",
              "      <td>0</td>\n",
              "      <td>1</td>\n",
              "      <td>0</td>\n",
              "    </tr>\n",
              "    <tr>\n",
              "      <th>4</th>\n",
              "      <td>Favorite</td>\n",
              "      <td>NaN</td>\n",
              "      <td>2001</td>\n",
              "      <td>2</td>\n",
              "      <td>21</td>\n",
              "      <td>0</td>\n",
              "      <td>0</td>\n",
              "      <td>0</td>\n",
              "      <td>0</td>\n",
              "      <td>0</td>\n",
              "      <td>0</td>\n",
              "      <td>0</td>\n",
              "      <td>0</td>\n",
              "      <td>1</td>\n",
              "      <td>0</td>\n",
              "      <td>0</td>\n",
              "      <td>0</td>\n",
              "      <td>1</td>\n",
              "      <td>0</td>\n",
              "    </tr>\n",
              "  </tbody>\n",
              "</table>\n",
              "</div>"
            ],
            "text/plain": [
              "       Group Other Group  bYear  bMonth  bDay  Country_Australia  \\\n",
              "0  Limitless         NaN   1996      12    31                  0   \n",
              "1        VAV         NaN   1992       8    28                  0   \n",
              "2    Hashtag         NaN   1999      10    25                  0   \n",
              "3   MOMOLAND         NaN   1999       9    27                  0   \n",
              "4   Favorite         NaN   2001       2    21                  0   \n",
              "\n",
              "   Country_Canada  Country_China  Country_Hong Kong  Country_Indonesia  \\\n",
              "0               0              0                  0                  0   \n",
              "1               0              0                  0                  0   \n",
              "2               0              0                  0                  0   \n",
              "3               0              0                  0                  0   \n",
              "4               0              0                  0                  0   \n",
              "\n",
              "   Country_Japan  Country_Malaysia  Country_Philippines  Country_South Korea  \\\n",
              "0              0                 0                    0                    1   \n",
              "1              0                 0                    0                    1   \n",
              "2              0                 0                    0                    1   \n",
              "3              0                 0                    0                    1   \n",
              "4              0                 0                    0                    1   \n",
              "\n",
              "   Country_Taiwan  Country_Thailand  Country_USA  Gender_F  Gender_M  \n",
              "0               0                 0            0         0         1  \n",
              "1               0                 0            0         0         1  \n",
              "2               0                 0            0         1         0  \n",
              "3               0                 0            0         1         0  \n",
              "4               0                 0            0         1         0  "
            ]
          },
          "execution_count": 6,
          "metadata": {},
          "output_type": "execute_result"
        }
      ],
      "source": [
        "# 범주형 데이터 변환하기 (원핫 인코딩)\n",
        "df = pd.get_dummies(df, columns=['Country', 'Gender'])\n",
        "df.head()"
      ]
    },
    {
      "cell_type": "markdown",
      "metadata": {},
      "source": [
        "### 종속변수 생성하기"
      ]
    },
    {
      "cell_type": "code",
      "execution_count": 7,
      "metadata": {},
      "outputs": [
        {
          "data": {
            "text/plain": [
              "12"
            ]
          },
          "execution_count": 7,
          "metadata": {},
          "output_type": "execute_result"
        }
      ],
      "source": [
        "# 그룹별 인원수 구하기\n",
        "group = df.Group\n",
        "gCount = group.value_counts().to_dict()  # 그룹별 인원수 딕셔너리\n",
        "other = df['Other Group']\n",
        "for i in other.dropna():\n",
        "  for g in i.split(','):\n",
        "    g=g.strip()\n",
        "    if g in gCount:\n",
        "      gCount[g] += 1\n",
        "    else:\n",
        "      gCount[g] = 1\n",
        "gCount['IZ*ONE']  # 12명"
      ]
    },
    {
      "cell_type": "code",
      "execution_count": 8,
      "metadata": {},
      "outputs": [
        {
          "data": {
            "text/html": [
              "<div>\n",
              "<style scoped>\n",
              "    .dataframe tbody tr th:only-of-type {\n",
              "        vertical-align: middle;\n",
              "    }\n",
              "\n",
              "    .dataframe tbody tr th {\n",
              "        vertical-align: top;\n",
              "    }\n",
              "\n",
              "    .dataframe thead th {\n",
              "        text-align: right;\n",
              "    }\n",
              "</style>\n",
              "<table border=\"1\" class=\"dataframe\">\n",
              "  <thead>\n",
              "    <tr style=\"text-align: right;\">\n",
              "      <th></th>\n",
              "      <th>bYear</th>\n",
              "      <th>bMonth</th>\n",
              "      <th>bDay</th>\n",
              "      <th>Country_Australia</th>\n",
              "      <th>Country_Canada</th>\n",
              "      <th>Country_China</th>\n",
              "      <th>Country_Hong Kong</th>\n",
              "      <th>Country_Indonesia</th>\n",
              "      <th>Country_Japan</th>\n",
              "      <th>Country_Malaysia</th>\n",
              "      <th>Country_Philippines</th>\n",
              "      <th>Country_South Korea</th>\n",
              "      <th>Country_Taiwan</th>\n",
              "      <th>Country_Thailand</th>\n",
              "      <th>Country_USA</th>\n",
              "      <th>Gender_F</th>\n",
              "      <th>Gender_M</th>\n",
              "      <th>pCount</th>\n",
              "    </tr>\n",
              "  </thead>\n",
              "  <tbody>\n",
              "    <tr>\n",
              "      <th>0</th>\n",
              "      <td>1996</td>\n",
              "      <td>12</td>\n",
              "      <td>31</td>\n",
              "      <td>0</td>\n",
              "      <td>0</td>\n",
              "      <td>0</td>\n",
              "      <td>0</td>\n",
              "      <td>0</td>\n",
              "      <td>0</td>\n",
              "      <td>0</td>\n",
              "      <td>0</td>\n",
              "      <td>1</td>\n",
              "      <td>0</td>\n",
              "      <td>0</td>\n",
              "      <td>0</td>\n",
              "      <td>0</td>\n",
              "      <td>1</td>\n",
              "      <td>4.0</td>\n",
              "    </tr>\n",
              "    <tr>\n",
              "      <th>1</th>\n",
              "      <td>1992</td>\n",
              "      <td>8</td>\n",
              "      <td>28</td>\n",
              "      <td>0</td>\n",
              "      <td>0</td>\n",
              "      <td>0</td>\n",
              "      <td>0</td>\n",
              "      <td>0</td>\n",
              "      <td>0</td>\n",
              "      <td>0</td>\n",
              "      <td>0</td>\n",
              "      <td>1</td>\n",
              "      <td>0</td>\n",
              "      <td>0</td>\n",
              "      <td>0</td>\n",
              "      <td>0</td>\n",
              "      <td>1</td>\n",
              "      <td>7.0</td>\n",
              "    </tr>\n",
              "    <tr>\n",
              "      <th>2</th>\n",
              "      <td>1999</td>\n",
              "      <td>10</td>\n",
              "      <td>25</td>\n",
              "      <td>0</td>\n",
              "      <td>0</td>\n",
              "      <td>0</td>\n",
              "      <td>0</td>\n",
              "      <td>0</td>\n",
              "      <td>0</td>\n",
              "      <td>0</td>\n",
              "      <td>0</td>\n",
              "      <td>1</td>\n",
              "      <td>0</td>\n",
              "      <td>0</td>\n",
              "      <td>0</td>\n",
              "      <td>1</td>\n",
              "      <td>0</td>\n",
              "      <td>7.0</td>\n",
              "    </tr>\n",
              "    <tr>\n",
              "      <th>3</th>\n",
              "      <td>1999</td>\n",
              "      <td>9</td>\n",
              "      <td>27</td>\n",
              "      <td>0</td>\n",
              "      <td>0</td>\n",
              "      <td>0</td>\n",
              "      <td>0</td>\n",
              "      <td>0</td>\n",
              "      <td>0</td>\n",
              "      <td>0</td>\n",
              "      <td>0</td>\n",
              "      <td>1</td>\n",
              "      <td>0</td>\n",
              "      <td>0</td>\n",
              "      <td>0</td>\n",
              "      <td>1</td>\n",
              "      <td>0</td>\n",
              "      <td>9.0</td>\n",
              "    </tr>\n",
              "    <tr>\n",
              "      <th>4</th>\n",
              "      <td>2001</td>\n",
              "      <td>2</td>\n",
              "      <td>21</td>\n",
              "      <td>0</td>\n",
              "      <td>0</td>\n",
              "      <td>0</td>\n",
              "      <td>0</td>\n",
              "      <td>0</td>\n",
              "      <td>0</td>\n",
              "      <td>0</td>\n",
              "      <td>0</td>\n",
              "      <td>1</td>\n",
              "      <td>0</td>\n",
              "      <td>0</td>\n",
              "      <td>0</td>\n",
              "      <td>1</td>\n",
              "      <td>0</td>\n",
              "      <td>6.0</td>\n",
              "    </tr>\n",
              "  </tbody>\n",
              "</table>\n",
              "</div>"
            ],
            "text/plain": [
              "   bYear  bMonth  bDay  Country_Australia  Country_Canada  Country_China  \\\n",
              "0   1996      12    31                  0               0              0   \n",
              "1   1992       8    28                  0               0              0   \n",
              "2   1999      10    25                  0               0              0   \n",
              "3   1999       9    27                  0               0              0   \n",
              "4   2001       2    21                  0               0              0   \n",
              "\n",
              "   Country_Hong Kong  Country_Indonesia  Country_Japan  Country_Malaysia  \\\n",
              "0                  0                  0              0                 0   \n",
              "1                  0                  0              0                 0   \n",
              "2                  0                  0              0                 0   \n",
              "3                  0                  0              0                 0   \n",
              "4                  0                  0              0                 0   \n",
              "\n",
              "   Country_Philippines  Country_South Korea  Country_Taiwan  Country_Thailand  \\\n",
              "0                    0                    1               0                 0   \n",
              "1                    0                    1               0                 0   \n",
              "2                    0                    1               0                 0   \n",
              "3                    0                    1               0                 0   \n",
              "4                    0                    1               0                 0   \n",
              "\n",
              "   Country_USA  Gender_F  Gender_M  pCount  \n",
              "0            0         0         1     4.0  \n",
              "1            0         0         1     7.0  \n",
              "2            0         1         0     7.0  \n",
              "3            0         1         0     9.0  \n",
              "4            0         1         0     6.0  "
            ]
          },
          "execution_count": 8,
          "metadata": {},
          "output_type": "execute_result"
        }
      ],
      "source": [
        "# 인원수 컬럼 생성\n",
        "pCount = []\n",
        "for i in range(len(df)):\n",
        "  c = 0\n",
        "  if group[i]==group[i]: # NaN 판별\n",
        "    c = gCount[group[i]]\n",
        "    if other[i]==other[i]:  # 여러 그룹에 속해 있었다면 평균을 냄\n",
        "      others = other[i].split(',')\n",
        "      for g in others:\n",
        "        g=g.strip()\n",
        "        c += gCount[g]\n",
        "      c /= len(others)+1\n",
        "  else:  # 솔로 가수\n",
        "    c = 1\n",
        "  pCount.append(c)\n",
        "df['pCount'] = pCount\n",
        "df.drop(['Group', 'Other Group'], axis=1, inplace=True)\n",
        "df.head()"
      ]
    },
    {
      "cell_type": "markdown",
      "metadata": {
        "id": "JOMb4EgDGknd"
      },
      "source": [
        "# 4. 데이터 탐색 및 시각화"
      ]
    },
    {
      "cell_type": "code",
      "execution_count": 9,
      "metadata": {
        "colab": {
          "base_uri": "https://localhost:8080/"
        },
        "id": "U7KJ4n1ygBvq",
        "outputId": "23bb60b4-26d9-4726-95c9-b0f17c7ba3cd"
      },
      "outputs": [
        {
          "data": {
            "image/png": "[encoded data removed]",
            "text/plain": [
              "<Figure size 432x288 with 1 Axes>"
            ]
          },
          "metadata": {
            "needs_background": "light"
          },
          "output_type": "display_data"
        }
      ],
      "source": [
        "# 인원수 분포 확인하기\n",
        "import matplotlib.pyplot as plt\n",
        "import seaborn as sns\n",
        "vc = df['pCount'].value_counts()\n",
        "plt.scatter(vc.index, vc)\n",
        "plt.show()"
      ]
    },
    {
      "cell_type": "code",
      "execution_count": 10,
      "metadata": {
        "colab": {
          "base_uri": "https://localhost:8080/",
          "height": 782
        },
        "id": "JZugmWYHgbW3",
        "outputId": "3785af2e-5645-447e-b5b6-93d8a18b1e1c"
      },
      "outputs": [
        {
          "data": {
            "image/png": "[encoded data removed]",
            "text/plain": [
              "<Figure size 864x864 with 2 Axes>"
            ]
          },
          "metadata": {
            "needs_background": "light"
          },
          "output_type": "display_data"
        }
      ],
      "source": [
        "# 특성별 상관관계 보기\n",
        "plt.figure(figsize=(12, 12))\n",
        "sns.heatmap(df.corr(), annot=True)\n",
        "plt.show()"
      ]
    },
    {
      "cell_type": "markdown",
      "metadata": {
        "id": "1A_HaxTxg61Y"
      },
      "source": [
        "# 5. 모델 학습 및 평가\n",
        "\n",
        "* 머신러닝 알고리즘 선택 : 선형회귀 및 앙상블 학습\n",
        "\n",
        "* 학습 후 가중치, 절편을 확인\n",
        "\n",
        "* 분류 모델 평가 지표 : 평균 제곱 오차 제곱근(RMSE, Root Mean Squared Error)"
      ]
    },
    {
      "cell_type": "code",
      "execution_count": 11,
      "metadata": {
        "colab": {
          "base_uri": "https://localhost:8080/"
        },
        "id": "CKWv1vphI7Pf",
        "outputId": "b230aa78-948e-4419-8c71-8e322a6f484f"
      },
      "outputs": [
        {
          "data": {
            "text/plain": [
              "(      bYear  bMonth  bDay  Country_Australia  Country_Canada  Country_China  \\\n",
              " 0      1996      12    31                  0               0              0   \n",
              " 1      1992       8    28                  0               0              0   \n",
              " 2      1999      10    25                  0               0              0   \n",
              " 3      1999       9    27                  0               0              0   \n",
              " 4      2001       2    21                  0               0              0   \n",
              " ...     ...     ...   ...                ...             ...            ...   \n",
              " 1305   1997       6    16                  0               0              0   \n",
              " 1306   1994       6     9                  0               0              0   \n",
              " 1307   2005       5    31                  0               0              0   \n",
              " 1308   1996       7     4                  0               0              0   \n",
              " 1309   1994      12     8                  0               0              0   \n",
              " \n",
              "       Country_Hong Kong  Country_Indonesia  Country_Japan  Country_Malaysia  \\\n",
              " 0                     0                  0              0                 0   \n",
              " 1                     0                  0              0                 0   \n",
              " 2                     0                  0              0                 0   \n",
              " 3                     0                  0              0                 0   \n",
              " 4                     0                  0              0                 0   \n",
              " ...                 ...                ...            ...               ...   \n",
              " 1305                  0                  0              0                 0   \n",
              " 1306                  0                  0              0                 0   \n",
              " 1307                  0                  0              0                 0   \n",
              " 1308                  0                  0              0                 0   \n",
              " 1309                  0                  0              0                 0   \n",
              " \n",
              "       Country_Philippines  Country_South Korea  Country_Taiwan  \\\n",
              " 0                       0                    1               0   \n",
              " 1                       0                    1               0   \n",
              " 2                       0                    1               0   \n",
              " 3                       0                    1               0   \n",
              " 4                       0                    1               0   \n",
              " ...                   ...                  ...             ...   \n",
              " 1305                    0                    1               0   \n",
              " 1306                    0                    1               0   \n",
              " 1307                    0                    1               0   \n",
              " 1308                    0                    1               0   \n",
              " 1309                    0                    1               0   \n",
              " \n",
              "       Country_Thailand  Country_USA  Gender_F  Gender_M  \n",
              " 0                    0            0         0         1  \n",
              " 1                    0            0         0         1  \n",
              " 2                    0            0         1         0  \n",
              " 3                    0            0         1         0  \n",
              " 4                    0            0         1         0  \n",
              " ...                ...          ...       ...       ...  \n",
              " 1305                 0            0         0         1  \n",
              " 1306                 0            0         1         0  \n",
              " 1307                 0            0         1         0  \n",
              " 1308                 0            0         0         1  \n",
              " 1309                 0            0         1         0  \n",
              " \n",
              " [1310 rows x 17 columns],\n",
              " array([4., 7., 7., ..., 7., 9., 3.]))"
            ]
          },
          "execution_count": 11,
          "metadata": {},
          "output_type": "execute_result"
        }
      ],
      "source": [
        "# 독립변수, 종속변수 나누기\n",
        "X = df.drop('pCount', axis=1)\n",
        "y = df['pCount'].to_numpy()\n",
        "X, y"
      ]
    },
    {
      "cell_type": "code",
      "execution_count": 12,
      "metadata": {},
      "outputs": [
        {
          "data": {
            "text/plain": [
              "((1048, 17), (262, 17))"
            ]
          },
          "execution_count": 12,
          "metadata": {},
          "output_type": "execute_result"
        }
      ],
      "source": [
        "# 학습/테스트 데이터 나누기\n",
        "from sklearn.model_selection import train_test_split\n",
        "\n",
        "X_train, X_test, y_train, y_test = train_test_split(X, y, test_size=0.2, random_state=0)\n",
        "X_train.shape, X_test.shape"
      ]
    },
    {
      "cell_type": "code",
      "execution_count": 13,
      "metadata": {},
      "outputs": [
        {
          "data": {
            "text/plain": [
              "LinearRegression()"
            ]
          },
          "execution_count": 13,
          "metadata": {},
          "output_type": "execute_result"
        }
      ],
      "source": [
        "# 선형회귀 학습하기\n",
        "from sklearn.linear_model import LinearRegression\n",
        "\n",
        "lr = LinearRegression()\n",
        "lr.fit(X_train, y_train)"
      ]
    },
    {
      "cell_type": "code",
      "execution_count": 14,
      "metadata": {},
      "outputs": [
        {
          "name": "stdout",
          "output_type": "stream",
          "text": [
            "RMSE: 2.562138024706358\n"
          ]
        },
        {
          "data": {
            "text/html": [
              "<div>\n",
              "<style scoped>\n",
              "    .dataframe tbody tr th:only-of-type {\n",
              "        vertical-align: middle;\n",
              "    }\n",
              "\n",
              "    .dataframe tbody tr th {\n",
              "        vertical-align: top;\n",
              "    }\n",
              "\n",
              "    .dataframe thead th {\n",
              "        text-align: right;\n",
              "    }\n",
              "</style>\n",
              "<table border=\"1\" class=\"dataframe\">\n",
              "  <thead>\n",
              "    <tr style=\"text-align: right;\">\n",
              "      <th></th>\n",
              "      <th>y_test</th>\n",
              "      <th>pred</th>\n",
              "      <th>error</th>\n",
              "    </tr>\n",
              "  </thead>\n",
              "  <tbody>\n",
              "    <tr>\n",
              "      <th>0</th>\n",
              "      <td>5.0</td>\n",
              "      <td>7.779317</td>\n",
              "      <td>-2.779317</td>\n",
              "    </tr>\n",
              "    <tr>\n",
              "      <th>1</th>\n",
              "      <td>6.0</td>\n",
              "      <td>7.111681</td>\n",
              "      <td>-1.111681</td>\n",
              "    </tr>\n",
              "    <tr>\n",
              "      <th>2</th>\n",
              "      <td>5.0</td>\n",
              "      <td>5.854036</td>\n",
              "      <td>-0.854036</td>\n",
              "    </tr>\n",
              "    <tr>\n",
              "      <th>3</th>\n",
              "      <td>4.0</td>\n",
              "      <td>7.540790</td>\n",
              "      <td>-3.540790</td>\n",
              "    </tr>\n",
              "    <tr>\n",
              "      <th>4</th>\n",
              "      <td>6.0</td>\n",
              "      <td>6.241556</td>\n",
              "      <td>-0.241556</td>\n",
              "    </tr>\n",
              "    <tr>\n",
              "      <th>...</th>\n",
              "      <td>...</td>\n",
              "      <td>...</td>\n",
              "      <td>...</td>\n",
              "    </tr>\n",
              "    <tr>\n",
              "      <th>257</th>\n",
              "      <td>1.0</td>\n",
              "      <td>4.311225</td>\n",
              "      <td>-3.311225</td>\n",
              "    </tr>\n",
              "    <tr>\n",
              "      <th>258</th>\n",
              "      <td>6.0</td>\n",
              "      <td>6.658169</td>\n",
              "      <td>-0.658169</td>\n",
              "    </tr>\n",
              "    <tr>\n",
              "      <th>259</th>\n",
              "      <td>9.0</td>\n",
              "      <td>7.504249</td>\n",
              "      <td>1.495751</td>\n",
              "    </tr>\n",
              "    <tr>\n",
              "      <th>260</th>\n",
              "      <td>7.0</td>\n",
              "      <td>5.647008</td>\n",
              "      <td>1.352992</td>\n",
              "    </tr>\n",
              "    <tr>\n",
              "      <th>261</th>\n",
              "      <td>5.0</td>\n",
              "      <td>7.857334</td>\n",
              "      <td>-2.857334</td>\n",
              "    </tr>\n",
              "  </tbody>\n",
              "</table>\n",
              "<p>262 rows × 3 columns</p>\n",
              "</div>"
            ],
            "text/plain": [
              "     y_test      pred     error\n",
              "0       5.0  7.779317 -2.779317\n",
              "1       6.0  7.111681 -1.111681\n",
              "2       5.0  5.854036 -0.854036\n",
              "3       4.0  7.540790 -3.540790\n",
              "4       6.0  6.241556 -0.241556\n",
              "..      ...       ...       ...\n",
              "257     1.0  4.311225 -3.311225\n",
              "258     6.0  6.658169 -0.658169\n",
              "259     9.0  7.504249  1.495751\n",
              "260     7.0  5.647008  1.352992\n",
              "261     5.0  7.857334 -2.857334\n",
              "\n",
              "[262 rows x 3 columns]"
            ]
          },
          "execution_count": 14,
          "metadata": {},
          "output_type": "execute_result"
        }
      ],
      "source": [
        "# 선형회귀 예측하기\n",
        "pred = lr.predict(X_test)\n",
        "\n",
        "from sklearn.metrics import mean_squared_error\n",
        "def RMSE(y_real, y_pred):\n",
        "  return np.sqrt(mean_squared_error(y_real, y_pred))\n",
        "\n",
        "print('RMSE:', RMSE(y_test, pred))\n",
        "\n",
        "pd.DataFrame({\n",
        "  'y_test': y_test,\n",
        "  'pred': pred,\n",
        "  'error': y_test - pred\n",
        "})"
      ]
    },
    {
      "cell_type": "code",
      "execution_count": 15,
      "metadata": {},
      "outputs": [
        {
          "data": {
            "text/plain": [
              "(array([ 0.24777304,  0.01024682, -0.01135843, -1.97609008,  0.23561486,\n",
              "         2.22894149,  2.09217122,  3.04926775,  1.18191299,  0.34896123,\n",
              "        -5.4005508 , -0.21392422, -1.60475657, -0.07991281,  0.13836495,\n",
              "        -0.57535635,  0.57535635]),\n",
              " -487.97041107248447)"
            ]
          },
          "execution_count": 15,
          "metadata": {},
          "output_type": "execute_result"
        }
      ],
      "source": [
        "lr.coef_, lr.intercept_"
      ]
    },
    {
      "cell_type": "code",
      "execution_count": 16,
      "metadata": {},
      "outputs": [],
      "source": [
        "# 앙상블 학습 - AdaBoostRegressor가 가장 좋은 점수를 보였다.\n",
        "from sklearn.ensemble import AdaBoostRegressor\n",
        "from sklearn.ensemble import BaggingRegressor\n",
        "from sklearn.ensemble import ExtraTreesRegressor\n",
        "from sklearn.ensemble import GradientBoostingRegressor\n",
        "from sklearn.ensemble import RandomForestRegressor\n",
        "\n",
        "lr = LinearRegression()\n",
        "ada = AdaBoostRegressor(base_estimator=lr, n_estimators=100, random_state=0)\n",
        "bag = BaggingRegressor(base_estimator=lr, n_estimators=100, random_state=0)\n",
        "ext = ExtraTreesRegressor(n_estimators=100, random_state=0)\n",
        "gbr = GradientBoostingRegressor(n_estimators=100, random_state=0)\n",
        "rfr = RandomForestRegressor(n_estimators=100, random_state=0)"
      ]
    },
    {
      "cell_type": "code",
      "execution_count": 17,
      "metadata": {},
      "outputs": [
        {
          "data": {
            "text/plain": [
              "RandomForestRegressor(random_state=0)"
            ]
          },
          "execution_count": 17,
          "metadata": {},
          "output_type": "execute_result"
        }
      ],
      "source": [
        "ada.fit(X_train, y_train)\n",
        "bag.fit(X_train, y_train)\n",
        "ext.fit(X_train, y_train)\n",
        "gbr.fit(X_train, y_train)\n",
        "rfr.fit(X_train, y_train)"
      ]
    },
    {
      "cell_type": "code",
      "execution_count": 18,
      "metadata": {},
      "outputs": [],
      "source": [
        "ada_pred = ada.predict(X_test)\n",
        "bag_pred = bag.predict(X_test)\n",
        "ext_pred = ext.predict(X_test)\n",
        "gbr_pred = gbr.predict(X_test)\n",
        "rfr_pred = rfr.predict(X_test)"
      ]
    },
    {
      "cell_type": "code",
      "execution_count": 19,
      "metadata": {},
      "outputs": [
        {
          "name": "stdout",
          "output_type": "stream",
          "text": [
            "RMSE: 2.534205009075829 2.563064894028971 3.055881371631621 2.5821071502689703 2.8670052387907465\n"
          ]
        }
      ],
      "source": [
        "ada_score = RMSE(y_test, ada_pred)\n",
        "bag_score = RMSE(y_test, bag_pred)\n",
        "ext_score = RMSE(y_test, ext_pred)\n",
        "gbr_score = RMSE(y_test, gbr_pred)\n",
        "rfr_score = RMSE(y_test, rfr_pred)\n",
        "print('RMSE:', ada_score, bag_score, ext_score, gbr_score, rfr_score)"
      ]
    },
    {
      "cell_type": "code",
      "execution_count": 20,
      "metadata": {},
      "outputs": [
        {
          "name": "stdout",
          "output_type": "stream",
          "text": [
            "best parameter: {'fit_intercept': True, 'positive': False}\n",
            "best score: -2.6139452097169276\n",
            "-2.552095495550503\n",
            "-2.562138024706358\n"
          ]
        }
      ],
      "source": [
        "# LR GridSearch\n",
        "from sklearn.model_selection import GridSearchCV\n",
        "from sklearn.metrics import make_scorer  # RMSE scoring을 위함\n",
        "RMSE_scorer = make_scorer(RMSE, greater_is_better=False)\n",
        "\n",
        "lr = LinearRegression()\n",
        "lr_params={\n",
        "  'fit_intercept': [True, False],  # 절편 사용 여부\n",
        "  'positive': [True, False]  # 계수를 양수로만 설정할지 여부\n",
        "}\n",
        "gs = GridSearchCV(lr, lr_params, n_jobs=-1, scoring=RMSE_scorer)\n",
        "gs.fit(X_train, y_train)\n",
        "\n",
        "print('best parameter:', gs.best_params_)\n",
        "print('best score:', gs.best_score_)\n",
        "print(gs.score(X_train, y_train))\n",
        "print(gs.score(X_test, y_test))"
      ]
    },
    {
      "cell_type": "code",
      "execution_count": 21,
      "metadata": {},
      "outputs": [
        {
          "name": "stdout",
          "output_type": "stream",
          "text": [
            "best parameter: {'learning_rate': 0.5, 'n_estimators': 50}\n",
            "best score: -4.745653766512833\n",
            "-2.563042633208973\n",
            "-2.558998761451719\n"
          ]
        }
      ],
      "source": [
        "# ABR GridSearch\n",
        "lr = LinearRegression(fit_intercept=False, positive=False)\n",
        "ada = AdaBoostRegressor(base_estimator=lr, n_estimators=100, random_state=0)\n",
        "ada_params={\n",
        "  'n_estimators': [50, 100, 150],\n",
        "  'learning_rate': [0.5, 1, 1.5]\n",
        "}\n",
        "gs = GridSearchCV(ada, ada_params, n_jobs=-1, scoring=RMSE_scorer)\n",
        "gs.fit(X_train, y_train)\n",
        "\n",
        "print('best parameter:', gs.best_params_)\n",
        "print('best score:', gs.best_score_)\n",
        "print(gs.score(X_train, y_train))\n",
        "print(gs.score(X_test, y_test))"
      ]
    },
    {
      "cell_type": "markdown",
      "metadata": {},
      "source": [
        "* AdaBoostRegressor가 LinearRegression에 비해 좋은 성능을 보였다!"
      ]
    },
    {
      "cell_type": "markdown",
      "metadata": {
        "id": "AdkLfRV8p7eu"
      },
      "source": [
        "# 6. 모델 개선\n",
        "\n",
        "* 개선1 : 국가를 더 적게 나눔 -> RMSE가 약 2.55에서 2.56으로 악화되었다.\n",
        "\n",
        "* 개선2 : 생년(태어난 연도)을 표준화 -> RMSE가 3.34로 악화되었다."
      ]
    },
    {
      "cell_type": "code",
      "execution_count": 22,
      "metadata": {},
      "outputs": [
        {
          "data": {
            "text/html": [
              "<div>\n",
              "<style scoped>\n",
              "    .dataframe tbody tr th:only-of-type {\n",
              "        vertical-align: middle;\n",
              "    }\n",
              "\n",
              "    .dataframe tbody tr th {\n",
              "        vertical-align: top;\n",
              "    }\n",
              "\n",
              "    .dataframe thead th {\n",
              "        text-align: right;\n",
              "    }\n",
              "</style>\n",
              "<table border=\"1\" class=\"dataframe\">\n",
              "  <thead>\n",
              "    <tr style=\"text-align: right;\">\n",
              "      <th></th>\n",
              "      <th>bYear</th>\n",
              "      <th>bMonth</th>\n",
              "      <th>bDay</th>\n",
              "      <th>Country_Australia</th>\n",
              "      <th>Country_Canada</th>\n",
              "      <th>Country_China</th>\n",
              "      <th>Country_Hong Kong</th>\n",
              "      <th>Country_Indonesia</th>\n",
              "      <th>Country_Japan</th>\n",
              "      <th>Country_Malaysia</th>\n",
              "      <th>Country_Philippines</th>\n",
              "      <th>Country_South Korea</th>\n",
              "      <th>Country_Taiwan</th>\n",
              "      <th>Country_Thailand</th>\n",
              "      <th>Country_USA</th>\n",
              "      <th>Gender_F</th>\n",
              "      <th>Gender_M</th>\n",
              "      <th>pCount</th>\n",
              "    </tr>\n",
              "  </thead>\n",
              "  <tbody>\n",
              "    <tr>\n",
              "      <th>0</th>\n",
              "      <td>1996</td>\n",
              "      <td>12</td>\n",
              "      <td>31</td>\n",
              "      <td>0</td>\n",
              "      <td>0</td>\n",
              "      <td>0</td>\n",
              "      <td>0</td>\n",
              "      <td>0</td>\n",
              "      <td>0</td>\n",
              "      <td>0</td>\n",
              "      <td>0</td>\n",
              "      <td>1</td>\n",
              "      <td>0</td>\n",
              "      <td>0</td>\n",
              "      <td>0</td>\n",
              "      <td>0</td>\n",
              "      <td>1</td>\n",
              "      <td>4.0</td>\n",
              "    </tr>\n",
              "    <tr>\n",
              "      <th>1</th>\n",
              "      <td>1992</td>\n",
              "      <td>8</td>\n",
              "      <td>28</td>\n",
              "      <td>0</td>\n",
              "      <td>0</td>\n",
              "      <td>0</td>\n",
              "      <td>0</td>\n",
              "      <td>0</td>\n",
              "      <td>0</td>\n",
              "      <td>0</td>\n",
              "      <td>0</td>\n",
              "      <td>1</td>\n",
              "      <td>0</td>\n",
              "      <td>0</td>\n",
              "      <td>0</td>\n",
              "      <td>0</td>\n",
              "      <td>1</td>\n",
              "      <td>7.0</td>\n",
              "    </tr>\n",
              "    <tr>\n",
              "      <th>2</th>\n",
              "      <td>1999</td>\n",
              "      <td>10</td>\n",
              "      <td>25</td>\n",
              "      <td>0</td>\n",
              "      <td>0</td>\n",
              "      <td>0</td>\n",
              "      <td>0</td>\n",
              "      <td>0</td>\n",
              "      <td>0</td>\n",
              "      <td>0</td>\n",
              "      <td>0</td>\n",
              "      <td>1</td>\n",
              "      <td>0</td>\n",
              "      <td>0</td>\n",
              "      <td>0</td>\n",
              "      <td>1</td>\n",
              "      <td>0</td>\n",
              "      <td>7.0</td>\n",
              "    </tr>\n",
              "    <tr>\n",
              "      <th>3</th>\n",
              "      <td>1999</td>\n",
              "      <td>9</td>\n",
              "      <td>27</td>\n",
              "      <td>0</td>\n",
              "      <td>0</td>\n",
              "      <td>0</td>\n",
              "      <td>0</td>\n",
              "      <td>0</td>\n",
              "      <td>0</td>\n",
              "      <td>0</td>\n",
              "      <td>0</td>\n",
              "      <td>1</td>\n",
              "      <td>0</td>\n",
              "      <td>0</td>\n",
              "      <td>0</td>\n",
              "      <td>1</td>\n",
              "      <td>0</td>\n",
              "      <td>9.0</td>\n",
              "    </tr>\n",
              "    <tr>\n",
              "      <th>4</th>\n",
              "      <td>2001</td>\n",
              "      <td>2</td>\n",
              "      <td>21</td>\n",
              "      <td>0</td>\n",
              "      <td>0</td>\n",
              "      <td>0</td>\n",
              "      <td>0</td>\n",
              "      <td>0</td>\n",
              "      <td>0</td>\n",
              "      <td>0</td>\n",
              "      <td>0</td>\n",
              "      <td>1</td>\n",
              "      <td>0</td>\n",
              "      <td>0</td>\n",
              "      <td>0</td>\n",
              "      <td>1</td>\n",
              "      <td>0</td>\n",
              "      <td>6.0</td>\n",
              "    </tr>\n",
              "  </tbody>\n",
              "</table>\n",
              "</div>"
            ],
            "text/plain": [
              "   bYear  bMonth  bDay  Country_Australia  Country_Canada  Country_China  \\\n",
              "0   1996      12    31                  0               0              0   \n",
              "1   1992       8    28                  0               0              0   \n",
              "2   1999      10    25                  0               0              0   \n",
              "3   1999       9    27                  0               0              0   \n",
              "4   2001       2    21                  0               0              0   \n",
              "\n",
              "   Country_Hong Kong  Country_Indonesia  Country_Japan  Country_Malaysia  \\\n",
              "0                  0                  0              0                 0   \n",
              "1                  0                  0              0                 0   \n",
              "2                  0                  0              0                 0   \n",
              "3                  0                  0              0                 0   \n",
              "4                  0                  0              0                 0   \n",
              "\n",
              "   Country_Philippines  Country_South Korea  Country_Taiwan  Country_Thailand  \\\n",
              "0                    0                    1               0                 0   \n",
              "1                    0                    1               0                 0   \n",
              "2                    0                    1               0                 0   \n",
              "3                    0                    1               0                 0   \n",
              "4                    0                    1               0                 0   \n",
              "\n",
              "   Country_USA  Gender_F  Gender_M  pCount  \n",
              "0            0         0         1     4.0  \n",
              "1            0         0         1     7.0  \n",
              "2            0         1         0     7.0  \n",
              "3            0         1         0     9.0  \n",
              "4            0         1         0     6.0  "
            ]
          },
          "execution_count": 22,
          "metadata": {},
          "output_type": "execute_result"
        }
      ],
      "source": [
        "# 개선 1 : 국가 적게 나누기\n",
        "df2 = df.copy()\n",
        "df2.head()"
      ]
    },
    {
      "cell_type": "code",
      "execution_count": 23,
      "metadata": {},
      "outputs": [
        {
          "data": {
            "text/html": [
              "<div>\n",
              "<style scoped>\n",
              "    .dataframe tbody tr th:only-of-type {\n",
              "        vertical-align: middle;\n",
              "    }\n",
              "\n",
              "    .dataframe tbody tr th {\n",
              "        vertical-align: top;\n",
              "    }\n",
              "\n",
              "    .dataframe thead th {\n",
              "        text-align: right;\n",
              "    }\n",
              "</style>\n",
              "<table border=\"1\" class=\"dataframe\">\n",
              "  <thead>\n",
              "    <tr style=\"text-align: right;\">\n",
              "      <th></th>\n",
              "      <th>bYear</th>\n",
              "      <th>bMonth</th>\n",
              "      <th>bDay</th>\n",
              "      <th>Gender_F</th>\n",
              "      <th>Gender_M</th>\n",
              "      <th>pCount</th>\n",
              "      <th>Western</th>\n",
              "      <th>Korea</th>\n",
              "      <th>Eastern</th>\n",
              "      <th>Southeast</th>\n",
              "    </tr>\n",
              "  </thead>\n",
              "  <tbody>\n",
              "    <tr>\n",
              "      <th>0</th>\n",
              "      <td>1996</td>\n",
              "      <td>12</td>\n",
              "      <td>31</td>\n",
              "      <td>0</td>\n",
              "      <td>1</td>\n",
              "      <td>4.0</td>\n",
              "      <td>0</td>\n",
              "      <td>1</td>\n",
              "      <td>0</td>\n",
              "      <td>0</td>\n",
              "    </tr>\n",
              "    <tr>\n",
              "      <th>1</th>\n",
              "      <td>1992</td>\n",
              "      <td>8</td>\n",
              "      <td>28</td>\n",
              "      <td>0</td>\n",
              "      <td>1</td>\n",
              "      <td>7.0</td>\n",
              "      <td>0</td>\n",
              "      <td>1</td>\n",
              "      <td>0</td>\n",
              "      <td>0</td>\n",
              "    </tr>\n",
              "    <tr>\n",
              "      <th>2</th>\n",
              "      <td>1999</td>\n",
              "      <td>10</td>\n",
              "      <td>25</td>\n",
              "      <td>1</td>\n",
              "      <td>0</td>\n",
              "      <td>7.0</td>\n",
              "      <td>0</td>\n",
              "      <td>1</td>\n",
              "      <td>0</td>\n",
              "      <td>0</td>\n",
              "    </tr>\n",
              "    <tr>\n",
              "      <th>3</th>\n",
              "      <td>1999</td>\n",
              "      <td>9</td>\n",
              "      <td>27</td>\n",
              "      <td>1</td>\n",
              "      <td>0</td>\n",
              "      <td>9.0</td>\n",
              "      <td>0</td>\n",
              "      <td>1</td>\n",
              "      <td>0</td>\n",
              "      <td>0</td>\n",
              "    </tr>\n",
              "    <tr>\n",
              "      <th>4</th>\n",
              "      <td>2001</td>\n",
              "      <td>2</td>\n",
              "      <td>21</td>\n",
              "      <td>1</td>\n",
              "      <td>0</td>\n",
              "      <td>6.0</td>\n",
              "      <td>0</td>\n",
              "      <td>1</td>\n",
              "      <td>0</td>\n",
              "      <td>0</td>\n",
              "    </tr>\n",
              "  </tbody>\n",
              "</table>\n",
              "</div>"
            ],
            "text/plain": [
              "   bYear  bMonth  bDay  Gender_F  Gender_M  pCount  Western  Korea  Eastern  \\\n",
              "0   1996      12    31         0         1     4.0        0      1        0   \n",
              "1   1992       8    28         0         1     7.0        0      1        0   \n",
              "2   1999      10    25         1         0     7.0        0      1        0   \n",
              "3   1999       9    27         1         0     9.0        0      1        0   \n",
              "4   2001       2    21         1         0     6.0        0      1        0   \n",
              "\n",
              "   Southeast  \n",
              "0          0  \n",
              "1          0  \n",
              "2          0  \n",
              "3          0  \n",
              "4          0  "
            ]
          },
          "execution_count": 23,
          "metadata": {},
          "output_type": "execute_result"
        }
      ],
      "source": [
        "# 국가를 카테고리별로 묶음\n",
        "df2['Western'] = df2[['Country_Australia', 'Country_Canada', 'Country_USA']].sum(axis=1)\n",
        "df2['Korea'] = df2['Country_South Korea']\n",
        "df2['Eastern'] = df2[['Country_Hong Kong', 'Country_Japan', 'Country_China', 'Country_Taiwan']].sum(axis=1)\n",
        "df2['Southeast'] = df2[['Country_Indonesia', 'Country_Malaysia', 'Country_Philippines', 'Country_Thailand']].sum(axis=1)\n",
        "df2.drop(['Country_Australia', 'Country_Canada', 'Country_USA', 'Country_South Korea', 'Country_Hong Kong', 'Country_Japan', 'Country_China', 'Country_Taiwan', 'Country_Indonesia', 'Country_Malaysia', 'Country_Philippines', 'Country_Thailand'], axis=1, inplace=True)\n",
        "df2.head()"
      ]
    },
    {
      "cell_type": "code",
      "execution_count": 24,
      "metadata": {},
      "outputs": [
        {
          "data": {
            "text/plain": [
              "((1048, 9), (262, 9))"
            ]
          },
          "execution_count": 24,
          "metadata": {},
          "output_type": "execute_result"
        }
      ],
      "source": [
        "# 학습/테스트 데이터 나누기\n",
        "X = df2.drop('pCount', axis=1)\n",
        "y = df2['pCount'].to_numpy()\n",
        "X_train, X_test, y_train, y_test = train_test_split(X, y, test_size=0.2, random_state=0)\n",
        "X_train.shape, X_test.shape"
      ]
    },
    {
      "cell_type": "code",
      "execution_count": 25,
      "metadata": {},
      "outputs": [
        {
          "name": "stdout",
          "output_type": "stream",
          "text": [
            "best parameter: {'fit_intercept': False, 'positive': True}\n",
            "best score: 2.787766807234982\n",
            "2.772623094946006\n",
            "2.616956735992595\n"
          ]
        }
      ],
      "source": [
        "# LR GridSearch\n",
        "lr = LinearRegression()\n",
        "gs2 = GridSearchCV(lr, lr_params, n_jobs=-1, scoring=make_scorer(RMSE))\n",
        "gs2.fit(X_train, y_train)\n",
        "\n",
        "print('best parameter:', gs2.best_params_)\n",
        "print('best score:', gs2.best_score_)\n",
        "print(gs2.score(X_train, y_train))\n",
        "print(gs2.score(X_test, y_test))"
      ]
    },
    {
      "cell_type": "code",
      "execution_count": 26,
      "metadata": {},
      "outputs": [
        {
          "data": {
            "text/plain": [
              "array([0.00278113, 0.00243684, 0.        , 0.        , 1.12813066,\n",
              "       0.15982298, 0.        , 2.11625433, 0.26204415])"
            ]
          },
          "execution_count": 26,
          "metadata": {},
          "output_type": "execute_result"
        }
      ],
      "source": [
        "gs2.best_estimator_.coef_"
      ]
    },
    {
      "cell_type": "code",
      "execution_count": 27,
      "metadata": {},
      "outputs": [
        {
          "name": "stdout",
          "output_type": "stream",
          "text": [
            "best parameter: {'learning_rate': 0.5, 'n_estimators': 50}\n",
            "best score: -2.805582581393008\n",
            "-2.7808120860639223\n",
            "-2.6044478024663316\n"
          ]
        }
      ],
      "source": [
        "# ABR GridSearch\n",
        "lr = LinearRegression(fit_intercept=False, positive=True)\n",
        "ada = AdaBoostRegressor(base_estimator=lr, n_estimators=100, random_state=0)\n",
        "gs2 = GridSearchCV(ada, ada_params, n_jobs=-1, scoring=RMSE_scorer)\n",
        "gs2.fit(X_train, y_train)\n",
        "\n",
        "print('best parameter:', gs2.best_params_)\n",
        "print('best score:', gs2.best_score_)\n",
        "print(gs2.score(X_train, y_train))\n",
        "print(gs2.score(X_test, y_test))"
      ]
    },
    {
      "cell_type": "code",
      "execution_count": 28,
      "metadata": {
        "colab": {
          "base_uri": "https://localhost:8080/"
        },
        "id": "c8VP9mNyMvVJ",
        "outputId": "90101256-22de-4097-d6f9-b4bfd0dc4bc3"
      },
      "outputs": [
        {
          "data": {
            "text/html": [
              "<div>\n",
              "<style scoped>\n",
              "    .dataframe tbody tr th:only-of-type {\n",
              "        vertical-align: middle;\n",
              "    }\n",
              "\n",
              "    .dataframe tbody tr th {\n",
              "        vertical-align: top;\n",
              "    }\n",
              "\n",
              "    .dataframe thead th {\n",
              "        text-align: right;\n",
              "    }\n",
              "</style>\n",
              "<table border=\"1\" class=\"dataframe\">\n",
              "  <thead>\n",
              "    <tr style=\"text-align: right;\">\n",
              "      <th></th>\n",
              "      <th>bYear</th>\n",
              "      <th>bMonth</th>\n",
              "      <th>bDay</th>\n",
              "      <th>Country_Australia</th>\n",
              "      <th>Country_Canada</th>\n",
              "      <th>Country_China</th>\n",
              "      <th>Country_Hong Kong</th>\n",
              "      <th>Country_Indonesia</th>\n",
              "      <th>Country_Japan</th>\n",
              "      <th>Country_Malaysia</th>\n",
              "      <th>Country_Philippines</th>\n",
              "      <th>Country_South Korea</th>\n",
              "      <th>Country_Taiwan</th>\n",
              "      <th>Country_Thailand</th>\n",
              "      <th>Country_USA</th>\n",
              "      <th>Gender_F</th>\n",
              "      <th>Gender_M</th>\n",
              "      <th>pCount</th>\n",
              "    </tr>\n",
              "  </thead>\n",
              "  <tbody>\n",
              "    <tr>\n",
              "      <th>0</th>\n",
              "      <td>1996</td>\n",
              "      <td>12</td>\n",
              "      <td>31</td>\n",
              "      <td>0</td>\n",
              "      <td>0</td>\n",
              "      <td>0</td>\n",
              "      <td>0</td>\n",
              "      <td>0</td>\n",
              "      <td>0</td>\n",
              "      <td>0</td>\n",
              "      <td>0</td>\n",
              "      <td>1</td>\n",
              "      <td>0</td>\n",
              "      <td>0</td>\n",
              "      <td>0</td>\n",
              "      <td>0</td>\n",
              "      <td>1</td>\n",
              "      <td>4.0</td>\n",
              "    </tr>\n",
              "    <tr>\n",
              "      <th>1</th>\n",
              "      <td>1992</td>\n",
              "      <td>8</td>\n",
              "      <td>28</td>\n",
              "      <td>0</td>\n",
              "      <td>0</td>\n",
              "      <td>0</td>\n",
              "      <td>0</td>\n",
              "      <td>0</td>\n",
              "      <td>0</td>\n",
              "      <td>0</td>\n",
              "      <td>0</td>\n",
              "      <td>1</td>\n",
              "      <td>0</td>\n",
              "      <td>0</td>\n",
              "      <td>0</td>\n",
              "      <td>0</td>\n",
              "      <td>1</td>\n",
              "      <td>7.0</td>\n",
              "    </tr>\n",
              "    <tr>\n",
              "      <th>2</th>\n",
              "      <td>1999</td>\n",
              "      <td>10</td>\n",
              "      <td>25</td>\n",
              "      <td>0</td>\n",
              "      <td>0</td>\n",
              "      <td>0</td>\n",
              "      <td>0</td>\n",
              "      <td>0</td>\n",
              "      <td>0</td>\n",
              "      <td>0</td>\n",
              "      <td>0</td>\n",
              "      <td>1</td>\n",
              "      <td>0</td>\n",
              "      <td>0</td>\n",
              "      <td>0</td>\n",
              "      <td>1</td>\n",
              "      <td>0</td>\n",
              "      <td>7.0</td>\n",
              "    </tr>\n",
              "    <tr>\n",
              "      <th>3</th>\n",
              "      <td>1999</td>\n",
              "      <td>9</td>\n",
              "      <td>27</td>\n",
              "      <td>0</td>\n",
              "      <td>0</td>\n",
              "      <td>0</td>\n",
              "      <td>0</td>\n",
              "      <td>0</td>\n",
              "      <td>0</td>\n",
              "      <td>0</td>\n",
              "      <td>0</td>\n",
              "      <td>1</td>\n",
              "      <td>0</td>\n",
              "      <td>0</td>\n",
              "      <td>0</td>\n",
              "      <td>1</td>\n",
              "      <td>0</td>\n",
              "      <td>9.0</td>\n",
              "    </tr>\n",
              "    <tr>\n",
              "      <th>4</th>\n",
              "      <td>2001</td>\n",
              "      <td>2</td>\n",
              "      <td>21</td>\n",
              "      <td>0</td>\n",
              "      <td>0</td>\n",
              "      <td>0</td>\n",
              "      <td>0</td>\n",
              "      <td>0</td>\n",
              "      <td>0</td>\n",
              "      <td>0</td>\n",
              "      <td>0</td>\n",
              "      <td>1</td>\n",
              "      <td>0</td>\n",
              "      <td>0</td>\n",
              "      <td>0</td>\n",
              "      <td>1</td>\n",
              "      <td>0</td>\n",
              "      <td>6.0</td>\n",
              "    </tr>\n",
              "  </tbody>\n",
              "</table>\n",
              "</div>"
            ],
            "text/plain": [
              "   bYear  bMonth  bDay  Country_Australia  Country_Canada  Country_China  \\\n",
              "0   1996      12    31                  0               0              0   \n",
              "1   1992       8    28                  0               0              0   \n",
              "2   1999      10    25                  0               0              0   \n",
              "3   1999       9    27                  0               0              0   \n",
              "4   2001       2    21                  0               0              0   \n",
              "\n",
              "   Country_Hong Kong  Country_Indonesia  Country_Japan  Country_Malaysia  \\\n",
              "0                  0                  0              0                 0   \n",
              "1                  0                  0              0                 0   \n",
              "2                  0                  0              0                 0   \n",
              "3                  0                  0              0                 0   \n",
              "4                  0                  0              0                 0   \n",
              "\n",
              "   Country_Philippines  Country_South Korea  Country_Taiwan  Country_Thailand  \\\n",
              "0                    0                    1               0                 0   \n",
              "1                    0                    1               0                 0   \n",
              "2                    0                    1               0                 0   \n",
              "3                    0                    1               0                 0   \n",
              "4                    0                    1               0                 0   \n",
              "\n",
              "   Country_USA  Gender_F  Gender_M  pCount  \n",
              "0            0         0         1     4.0  \n",
              "1            0         0         1     7.0  \n",
              "2            0         1         0     7.0  \n",
              "3            0         1         0     9.0  \n",
              "4            0         1         0     6.0  "
            ]
          },
          "execution_count": 28,
          "metadata": {},
          "output_type": "execute_result"
        }
      ],
      "source": [
        "# 개선2 : 생년월일 표준화하기\n",
        "df3 = df.copy()\n",
        "df3.head()"
      ]
    },
    {
      "cell_type": "code",
      "execution_count": 29,
      "metadata": {},
      "outputs": [
        {
          "data": {
            "text/html": [
              "<div>\n",
              "<style scoped>\n",
              "    .dataframe tbody tr th:only-of-type {\n",
              "        vertical-align: middle;\n",
              "    }\n",
              "\n",
              "    .dataframe tbody tr th {\n",
              "        vertical-align: top;\n",
              "    }\n",
              "\n",
              "    .dataframe thead th {\n",
              "        text-align: right;\n",
              "    }\n",
              "</style>\n",
              "<table border=\"1\" class=\"dataframe\">\n",
              "  <thead>\n",
              "    <tr style=\"text-align: right;\">\n",
              "      <th></th>\n",
              "      <th>bYear</th>\n",
              "      <th>bMonth</th>\n",
              "      <th>bDay</th>\n",
              "      <th>Country_Australia</th>\n",
              "      <th>Country_Canada</th>\n",
              "      <th>Country_China</th>\n",
              "      <th>Country_Hong Kong</th>\n",
              "      <th>Country_Indonesia</th>\n",
              "      <th>Country_Japan</th>\n",
              "      <th>Country_Malaysia</th>\n",
              "      <th>Country_Philippines</th>\n",
              "      <th>Country_South Korea</th>\n",
              "      <th>Country_Taiwan</th>\n",
              "      <th>Country_Thailand</th>\n",
              "      <th>Country_USA</th>\n",
              "      <th>Gender_F</th>\n",
              "      <th>Gender_M</th>\n",
              "      <th>pCount</th>\n",
              "    </tr>\n",
              "  </thead>\n",
              "  <tbody>\n",
              "    <tr>\n",
              "      <th>0</th>\n",
              "      <td>0.106254</td>\n",
              "      <td>12</td>\n",
              "      <td>31</td>\n",
              "      <td>0</td>\n",
              "      <td>0</td>\n",
              "      <td>0</td>\n",
              "      <td>0</td>\n",
              "      <td>0</td>\n",
              "      <td>0</td>\n",
              "      <td>0</td>\n",
              "      <td>0</td>\n",
              "      <td>1</td>\n",
              "      <td>0</td>\n",
              "      <td>0</td>\n",
              "      <td>0</td>\n",
              "      <td>0</td>\n",
              "      <td>1</td>\n",
              "      <td>4.0</td>\n",
              "    </tr>\n",
              "    <tr>\n",
              "      <th>1</th>\n",
              "      <td>-0.824803</td>\n",
              "      <td>8</td>\n",
              "      <td>28</td>\n",
              "      <td>0</td>\n",
              "      <td>0</td>\n",
              "      <td>0</td>\n",
              "      <td>0</td>\n",
              "      <td>0</td>\n",
              "      <td>0</td>\n",
              "      <td>0</td>\n",
              "      <td>0</td>\n",
              "      <td>1</td>\n",
              "      <td>0</td>\n",
              "      <td>0</td>\n",
              "      <td>0</td>\n",
              "      <td>0</td>\n",
              "      <td>1</td>\n",
              "      <td>7.0</td>\n",
              "    </tr>\n",
              "    <tr>\n",
              "      <th>2</th>\n",
              "      <td>0.804547</td>\n",
              "      <td>10</td>\n",
              "      <td>25</td>\n",
              "      <td>0</td>\n",
              "      <td>0</td>\n",
              "      <td>0</td>\n",
              "      <td>0</td>\n",
              "      <td>0</td>\n",
              "      <td>0</td>\n",
              "      <td>0</td>\n",
              "      <td>0</td>\n",
              "      <td>1</td>\n",
              "      <td>0</td>\n",
              "      <td>0</td>\n",
              "      <td>0</td>\n",
              "      <td>1</td>\n",
              "      <td>0</td>\n",
              "      <td>7.0</td>\n",
              "    </tr>\n",
              "    <tr>\n",
              "      <th>3</th>\n",
              "      <td>0.804547</td>\n",
              "      <td>9</td>\n",
              "      <td>27</td>\n",
              "      <td>0</td>\n",
              "      <td>0</td>\n",
              "      <td>0</td>\n",
              "      <td>0</td>\n",
              "      <td>0</td>\n",
              "      <td>0</td>\n",
              "      <td>0</td>\n",
              "      <td>0</td>\n",
              "      <td>1</td>\n",
              "      <td>0</td>\n",
              "      <td>0</td>\n",
              "      <td>0</td>\n",
              "      <td>1</td>\n",
              "      <td>0</td>\n",
              "      <td>9.0</td>\n",
              "    </tr>\n",
              "    <tr>\n",
              "      <th>4</th>\n",
              "      <td>1.270076</td>\n",
              "      <td>2</td>\n",
              "      <td>21</td>\n",
              "      <td>0</td>\n",
              "      <td>0</td>\n",
              "      <td>0</td>\n",
              "      <td>0</td>\n",
              "      <td>0</td>\n",
              "      <td>0</td>\n",
              "      <td>0</td>\n",
              "      <td>0</td>\n",
              "      <td>1</td>\n",
              "      <td>0</td>\n",
              "      <td>0</td>\n",
              "      <td>0</td>\n",
              "      <td>1</td>\n",
              "      <td>0</td>\n",
              "      <td>6.0</td>\n",
              "    </tr>\n",
              "  </tbody>\n",
              "</table>\n",
              "</div>"
            ],
            "text/plain": [
              "      bYear  bMonth  bDay  Country_Australia  Country_Canada  Country_China  \\\n",
              "0  0.106254      12    31                  0               0              0   \n",
              "1 -0.824803       8    28                  0               0              0   \n",
              "2  0.804547      10    25                  0               0              0   \n",
              "3  0.804547       9    27                  0               0              0   \n",
              "4  1.270076       2    21                  0               0              0   \n",
              "\n",
              "   Country_Hong Kong  Country_Indonesia  Country_Japan  Country_Malaysia  \\\n",
              "0                  0                  0              0                 0   \n",
              "1                  0                  0              0                 0   \n",
              "2                  0                  0              0                 0   \n",
              "3                  0                  0              0                 0   \n",
              "4                  0                  0              0                 0   \n",
              "\n",
              "   Country_Philippines  Country_South Korea  Country_Taiwan  Country_Thailand  \\\n",
              "0                    0                    1               0                 0   \n",
              "1                    0                    1               0                 0   \n",
              "2                    0                    1               0                 0   \n",
              "3                    0                    1               0                 0   \n",
              "4                    0                    1               0                 0   \n",
              "\n",
              "   Country_USA  Gender_F  Gender_M  pCount  \n",
              "0            0         0         1     4.0  \n",
              "1            0         0         1     7.0  \n",
              "2            0         1         0     7.0  \n",
              "3            0         1         0     9.0  \n",
              "4            0         1         0     6.0  "
            ]
          },
          "execution_count": 29,
          "metadata": {},
          "output_type": "execute_result"
        }
      ],
      "source": [
        "# 생년월일 표준화\n",
        "from sklearn.preprocessing import StandardScaler\n",
        "ss = StandardScaler()\n",
        "scaledYear = ss.fit_transform(df.loc[:, :'bYear'])\n",
        "df3.bYear = scaledYear\n",
        "df3.head()"
      ]
    },
    {
      "cell_type": "code",
      "execution_count": 30,
      "metadata": {},
      "outputs": [
        {
          "data": {
            "text/plain": [
              "((1048, 17), (262, 17))"
            ]
          },
          "execution_count": 30,
          "metadata": {},
          "output_type": "execute_result"
        }
      ],
      "source": [
        "# 학습/테스트 데이터 나누기\n",
        "X = df3.drop('pCount', axis=1)\n",
        "y = df3['pCount'].to_numpy()\n",
        "X_train, X_test, y_train, y_test = train_test_split(X, y, test_size=0.2, random_state=0)\n",
        "X_train.shape, X_test.shape"
      ]
    },
    {
      "cell_type": "code",
      "execution_count": 31,
      "metadata": {},
      "outputs": [
        {
          "name": "stdout",
          "output_type": "stream",
          "text": [
            "best parameter: {'fit_intercept': False, 'positive': False}\n",
            "best score: -2.611625227469203\n",
            "-2.552095495550503\n",
            "-2.562138024706362\n"
          ]
        }
      ],
      "source": [
        "# LR GridSearch\n",
        "lr = LinearRegression()\n",
        "gs3 = GridSearchCV(lr, lr_params, n_jobs=-1, scoring=RMSE_scorer)\n",
        "gs3.fit(X_train, y_train)\n",
        "\n",
        "print('best parameter:', gs3.best_params_)\n",
        "print('best score:', gs3.best_score_)\n",
        "print(gs3.score(X_train, y_train))\n",
        "print(gs3.score(X_test, y_test))"
      ]
    },
    {
      "cell_type": "code",
      "execution_count": 32,
      "metadata": {},
      "outputs": [
        {
          "data": {
            "text/plain": [
              "array([ 1.06448057,  0.01024682, -0.01135843, -1.05159547,  1.16010947,\n",
              "        3.15343609,  3.01666583,  3.97376236,  2.10640759,  1.27345584,\n",
              "       -4.4760562 ,  0.71057038, -0.68026196,  0.8445818 ,  1.06285956,\n",
              "        4.9716113 ,  6.122324  ])"
            ]
          },
          "execution_count": 32,
          "metadata": {},
          "output_type": "execute_result"
        }
      ],
      "source": [
        "gs3.best_estimator_.coef_"
      ]
    },
    {
      "cell_type": "code",
      "execution_count": 33,
      "metadata": {},
      "outputs": [
        {
          "name": "stdout",
          "output_type": "stream",
          "text": [
            "best parameter: {'learning_rate': 1.5, 'n_estimators': 100}\n",
            "best score: -166888542679.10455\n",
            "-3.365452559297466\n",
            "-3.3498749203028053\n"
          ]
        }
      ],
      "source": [
        "# ABR GridSearch\n",
        "lr = LinearRegression(fit_intercept=True, positive=True)\n",
        "ada = AdaBoostRegressor(base_estimator=lr, n_estimators=100, random_state=0)\n",
        "gs3 = GridSearchCV(ada, ada_params, n_jobs=-1, scoring=RMSE_scorer)\n",
        "gs3.fit(X_train, y_train)\n",
        "\n",
        "print('best parameter:', gs3.best_params_)\n",
        "print('best score:', gs3.best_score_)\n",
        "print(gs3.score(X_train, y_train))\n",
        "print(gs3.score(X_test, y_test))"
      ]
    },
    {
      "cell_type": "markdown",
      "metadata": {
        "id": "PJkxuJs6y_go"
      },
      "source": [
        "# 7. 문제 해결\n",
        "\n",
        "* 가장 좋은 성능을 보인 첫 번째 모델을 사용하여 디미가 몇 인조 그룹에 어울릴지 찾아보자."
      ]
    },
    {
      "cell_type": "code",
      "execution_count": 34,
      "metadata": {},
      "outputs": [
        {
          "data": {
            "text/plain": [
              "Index(['bYear', 'bMonth', 'bDay', 'Country_Australia', 'Country_Canada',\n",
              "       'Country_China', 'Country_Hong Kong', 'Country_Indonesia',\n",
              "       'Country_Japan', 'Country_Malaysia', 'Country_Philippines',\n",
              "       'Country_South Korea', 'Country_Taiwan', 'Country_Thailand',\n",
              "       'Country_USA', 'Gender_F', 'Gender_M', 'pCount'],\n",
              "      dtype='object')"
            ]
          },
          "execution_count": 34,
          "metadata": {},
          "output_type": "execute_result"
        }
      ],
      "source": [
        "df.columns"
      ]
    },
    {
      "cell_type": "code",
      "execution_count": 35,
      "metadata": {
        "colab": {
          "base_uri": "https://localhost:8080/"
        },
        "id": "uIXVbYoNy2ox",
        "outputId": "008a063f-1143-46e5-c689-5761a2afd1ed"
      },
      "outputs": [
        {
          "data": {
            "text/plain": [
              "array([8.94850907])"
            ]
          },
          "execution_count": 35,
          "metadata": {},
          "output_type": "execute_result"
        }
      ],
      "source": [
        "# 디미의 정보를 입력하여 최적의 인원수 찾기\n",
        "estimator = gs.best_estimator_\n",
        "estimator.predict([[2004, 12, 13, 0, 0, 0, 0, 0, 0, 0, 0, 1, 0, 0, 0, 0, 1]])  # 2004년 12월 13일생 한국 남성"
      ]
    },
    {
      "cell_type": "markdown",
      "metadata": {},
      "source": [
        "* 9인조 그룹으로 데뷔하면 될 것 같다!\n",
        "\n",
        "### 그\n",
        "\n",
        "### 러\n",
        "\n",
        "### 나\n",
        "\n",
        "### ㆍ\n",
        "\n",
        "### ㆍ\n",
        "\n",
        "### ㆍ"
      ]
    },
    {
      "cell_type": "markdown",
      "metadata": {},
      "source": [
        "### 함정\n",
        "\n",
        "* 가장 안 좋은 성능을 보였던 세 번째 모델을 보자."
      ]
    },
    {
      "cell_type": "code",
      "execution_count": 36,
      "metadata": {},
      "outputs": [
        {
          "data": {
            "text/plain": [
              "array([1915.82769775])"
            ]
          },
          "execution_count": 36,
          "metadata": {},
          "output_type": "execute_result"
        }
      ],
      "source": [
        "estimator = gs3.best_estimator_\n",
        "estimator.predict([[2004, 12, 13, 0, 0, 0, 0, 0, 0, 0, 0, 1, 0, 0, 0, 0, 1]])  # 2004년 12월 13일생 한국 남성"
      ]
    },
    {
      "cell_type": "markdown",
      "metadata": {},
      "source": [
        "* 참고: 아직까지 대한민국에서 1915인조 그룹이 나온 적은 없다"
      ]
    },
    {
      "cell_type": "markdown",
      "metadata": {
        "id": "hCwUYe8nJA5p"
      },
      "source": [
        "# 8. 평가\n",
        "\n",
        "먼저, 가장 아쉬운 점은 구한 데이터셋이다. 같은 그룹의 멤버도 일부만 있어서, 정확한 인원수 자체를 구할 수 없는 경우가 간혹 있었다. 물론 극히 일부이고 나머지는 정확했다. 컬럼 종류도 생각보다 부족해서, 표준편차 2.5라는 안 좋은 결과가 나왔다. 개선하기 위해서는 다른 모델을 배워야만 할 것 같다. 데이터셋 자체도 더 많은 컬럼과 정확한 정보가 있는 데이터셋으로 구해야 좋은 결과가 나올 것이다.\n",
        "\n",
        "프로젝트를 하면서 머신러닝의 전 과정을 이해할 수 있었던 것은 좋았다. 아직 회귀 알고리즘은 하나밖에 배우지 않아서 모자르다는 느낌이 들기는 하지만, 과정 자체를 알았기 때문에 여기에서 모델의 종류만 바꾸면 될 것 같다는 느낌도 든다.\n",
        "\n",
        "이전의 수행평가 때와 같은 데이터셋을 사용했지만 전혀 다른 주제를 선정해 본 경험도 도움이 되었다. 나중에도 이 경험을 떠올리며 하나의 데이터셋으로부터 여러 정보를 얻을 수 있을 것 같다. 여러모로 유익했다."
      ]
    }
  ],
  "metadata": {
    "accelerator": "GPU",
    "colab": {
      "collapsed_sections": [],
      "name": "머신러닝 프로젝트 (학번 이름)",
      "provenance": []
    },
    "kernelspec": {
      "display_name": "Python 3",
      "name": "python3"
    },
    "language_info": {
      "codemirror_mode": {
        "name": "ipython",
        "version": 3
      },
      "file_extension": ".py",
      "mimetype": "text/x-python",
      "name": "python",
      "nbconvert_exporter": "python",
      "pygments_lexer": "ipython3",
      "version": "3.9.5"
    }
  },
  "nbformat": 4,
  "nbformat_minor": 0
}
